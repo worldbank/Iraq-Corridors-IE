{
 "cells": [
  {
   "cell_type": "markdown",
   "metadata": {},
   "source": [
    "*This GOSTnets example workbook will focus on Dar Es Salaam. We will build a multi-modal network comprised of the city streets from OSM, and the transit network as represented by their GTFS feed. We will then work out the shortest path travel time for each of 900 households, with access to the transit network and without. We will close by calculating the effect on trip times that having access to the GTFS-defined transit network affords the average citizen.*\n",
    "\n",
    "        Author: Charles Fox, G.O.S.T  |  SD Chief Economist Front Office"
   ]
  },
  {
   "cell_type": "markdown",
   "metadata": {},
   "source": [
    "### Library Import"
   ]
  },
  {
   "cell_type": "code",
   "execution_count": 1,
   "metadata": {},
   "outputs": [
    {
     "name": "stdout",
     "output_type": "stream",
     "text": [
      "peartree version: 0.6.0 \n",
      "networkx version: 2.2 \n",
      "matplotlib version: 2.2.2 \n",
      "osmnx version: 0.8.2 \n"
     ]
    }
   ],
   "source": [
    "import geopandas as gpd\n",
    "import pandas as pd\n",
    "import networkx as nx\n",
    "import peartree as pt\n",
    "import osmnx as ox\n",
    "import sys, os, time, json, copy\n",
    "ghub = r'C:\\Users\\charl\\Documents\\GitHub\\GOST\\NetworkAnalysis\\GOSTNets'\n",
    "sys.path.append(ghub) # Allows system to look in the 'ghub' folder for any python libraries. Here used to import GOSTnets\n",
    "import GOSTnet as gn\n",
    "import importlib # This library lets you re-load libraries if you make a change to the underlying python\n",
    "from shapely.geometry import Point"
   ]
  },
  {
   "cell_type": "markdown",
   "metadata": {},
   "source": [
    "### Define paths, file names"
   ]
  },
  {
   "cell_type": "code",
   "execution_count": 2,
   "metadata": {},
   "outputs": [],
   "source": [
    "pth = r'C:\\Users\\charl\\Documents\\GOST\\DarEsSalaam'\n",
    "pointz = r'workplace_geo.csv'\n",
    "feed_path = os.path.join(pth, r'GTFS.zip')"
   ]
  },
  {
   "cell_type": "markdown",
   "metadata": {},
   "source": [
    "### Preparing the MultiModal Network Step 1: The Walking Graph\n",
    "This function searches OSM for objects called 'Dar Es Salaam'. It is functionally equivalent to going to www.openstreetmap.org and manually entering the search term 'Dar Es Salaam'. If you don't get the desired area first time (it's a search function...) you can modify the result number the function takes as the area. To do this, follow the documentation steps here: \n",
    "https://osmnx.readthedocs.io/en/stable/osmnx.html \n",
    "\n",
    "\n",
    "Here, Dar Es Salaam gives the city relation, which is perfectly adequate for our purposes. We have imported the network type 'walk', which is all of the walkable streets in OSM. Switch keyword argument to 'drive' to get the driving network"
   ]
  },
  {
   "cell_type": "code",
   "execution_count": 3,
   "metadata": {},
   "outputs": [
    {
     "name": "stdout",
     "output_type": "stream",
     "text": [
      "Wall time: 2min 59s\n"
     ]
    }
   ],
   "source": [
    "%time G_OSM = ox.graph_from_place('Dar Es Salaam', network_type = 'walk')"
   ]
  },
  {
   "cell_type": "markdown",
   "metadata": {},
   "source": [
    "This line checks to see if the graph is already simplified. It usually will be if it is from osmnx, but a useful check for other networkx objects"
   ]
  },
  {
   "cell_type": "code",
   "execution_count": 4,
   "metadata": {
    "scrolled": true
   },
   "outputs": [
    {
     "data": {
      "text/plain": [
       "True"
      ]
     },
     "execution_count": 4,
     "metadata": {},
     "output_type": "execute_result"
    }
   ],
   "source": [
    "ox.simplify.is_simplified(G_OSM)"
   ]
  },
  {
   "cell_type": "markdown",
   "metadata": {},
   "source": [
    "This GOSTnets command takes a grpah object and makes an equivalent GeoDataFrame of the edges. The partner function, gn.node_gdf_from_graph, does the same thing for the nodes of a target graph object"
   ]
  },
  {
   "cell_type": "code",
   "execution_count": 5,
   "metadata": {},
   "outputs": [],
   "source": [
    "G_OSM_gdf = gn.edge_gdf_from_graph(G_OSM)"
   ]
  },
  {
   "cell_type": "markdown",
   "metadata": {},
   "source": [
    "I wanted to get a summary of the roads broken down by highway type, for my personal interest. For this, each road must be labelled only as one type of highway. \"highway = ['primary, secondary'] \" is not admissable, nor helpful. \n",
    "\n",
    "Hence, this function iterates through each row, checks whether or not the contents of the column are a list, and if true, returns the first object in the list. Otherwise, it returns what it found. This removes all list objects, leaving only text strings."
   ]
  },
  {
   "cell_type": "code",
   "execution_count": 6,
   "metadata": {},
   "outputs": [],
   "source": [
    "def check(x):\n",
    "    if type(x.highway) == list:\n",
    "        return x.highway[0]\n",
    "    else:\n",
    "        return x.highway\n",
    "\n",
    "G_OSM_gdf['highway'] = G_OSM_gdf.apply(lambda x: check(x), axis = 1)"
   ]
  },
  {
   "cell_type": "markdown",
   "metadata": {},
   "source": [
    "Print the total number of edges in the dataframe"
   ]
  },
  {
   "cell_type": "code",
   "execution_count": 7,
   "metadata": {},
   "outputs": [
    {
     "data": {
      "text/plain": [
       "268850"
      ]
     },
     "execution_count": 7,
     "metadata": {},
     "output_type": "execute_result"
    }
   ],
   "source": [
    "len(G_OSM_gdf)"
   ]
  },
  {
   "cell_type": "markdown",
   "metadata": {},
   "source": [
    "...that's a lot of edges. Let's get the summary of edges by the highway type as labelled in OpenStreetMap:"
   ]
  },
  {
   "cell_type": "code",
   "execution_count": 8,
   "metadata": {},
   "outputs": [
    {
     "data": {
      "text/plain": [
       "residential       125322\n",
       "unclassified       55913\n",
       "footway            38031\n",
       "path               27887\n",
       "service             7464\n",
       "tertiary            6632\n",
       "secondary           2626\n",
       "primary             1562\n",
       "trunk               1322\n",
       "track               1241\n",
       "pedestrian           217\n",
       "road                 198\n",
       "steps                153\n",
       "trunk_link           110\n",
       "yes                   92\n",
       "primary_link          46\n",
       "secondary_link        20\n",
       "tertiary_link         12\n",
       "bridleway              2\n",
       "Name: highway, dtype: int64"
      ]
     },
     "execution_count": 8,
     "metadata": {},
     "output_type": "execute_result"
    }
   ],
   "source": [
    "G_OSM_gdf.highway.value_counts()"
   ]
  },
  {
   "cell_type": "markdown",
   "metadata": {},
   "source": [
    "Send the GeoDataFrame to a .csv for visual inspection in QGIS / future reference. "
   ]
  },
  {
   "cell_type": "code",
   "execution_count": 9,
   "metadata": {},
   "outputs": [],
   "source": [
    "G_OSM_gdf.to_csv(os.path.join(pth, 'walkingnet.csv'))"
   ]
  },
  {
   "cell_type": "markdown",
   "metadata": {},
   "source": [
    "In order for the network edges to be useful in calculating travel times, they need a value for how long it takes to 'traverse' that edge of the graph. There is a handy GOSTnets function for this, which automatically generates the traverse time for graphs which already include a 'length' property measured in metres. \n",
    "\n",
    "Users must specify what graph type they are working with. \n",
    "\n",
    "**'walk'** will return a traverse time measured in seconds, at the assumed walk speed (defined in kmph, default 4.5 for average human).\n",
    "\n",
    "**'drive'** will define traverse times according to highway types. Although there is a built in default dictionary of assumed speeds by highway type, it is best to pass an explicit dictionary of key:value pairs to the function to avoid unexpected results. Here, we are trying to generate travel time estimates for walking across this OSM network, so 'walk' is used, and I re-affirm the walk speed as the default, at 4.5 kmph"
   ]
  },
  {
   "cell_type": "code",
   "execution_count": 10,
   "metadata": {},
   "outputs": [
    {
     "name": "stdout",
     "output_type": "stream",
     "text": [
      "Wall time: 2.27 s\n"
     ]
    }
   ],
   "source": [
    "Gwalk = G_OSM.copy()\n",
    "%time Gwalk = gn.convert_network_to_time(Gwalk, distance_tag = 'length', graph_type = 'walk', speed_dict = None, walk_speed = 4.5)"
   ]
  },
  {
   "cell_type": "markdown",
   "metadata": {},
   "source": [
    "This function prints out an example edge in (u, v, {data}) format, typical of Networkx edge objects"
   ]
  },
  {
   "cell_type": "code",
   "execution_count": 11,
   "metadata": {},
   "outputs": [
    {
     "name": "stdout",
     "output_type": "stream",
     "text": [
      "(4850712582, 4850712590, {'osmid': 493140573, 'highway': 'residential', 'oneway': False, 'length': 21.276, 'geometry': <shapely.geometry.linestring.LineString object at 0x0000020F6F2799E8>, 'time': 17.020799999999998, 'mode': 'walk'})\n"
     ]
    }
   ],
   "source": [
    "gn.example_edge(Gwalk, 1)"
   ]
  },
  {
   "cell_type": "markdown",
   "metadata": {},
   "source": [
    "### Preparing the MultiModal Network Step 2: The GTFS Graph"
   ]
  },
  {
   "cell_type": "markdown",
   "metadata": {},
   "source": [
    "Here I am making use of the peartree library to import a GTFS feed as a representative network graph. It is important to define the time of day for which we want to get the graph. This is because public transport is not like a road network - the 'edges' along which people can travel only exist at certain times of day, i.e. when buses are in service, for example. Here, I follow the peartree documentation example and use 7am to 9am as my time stretch to model a morning commute. We load this GTFS feed into a networkx object with 'load_feed_as_graph'. This will form another part of our multi-modal network."
   ]
  },
  {
   "cell_type": "code",
   "execution_count": 12,
   "metadata": {},
   "outputs": [
    {
     "name": "stdout",
     "output_type": "stream",
     "text": [
      "Wall time: 40.6 s\n"
     ]
    }
   ],
   "source": [
    "feed = pt.get_representative_feed(feed_path)\n",
    "start = 7 * 60 * 60\n",
    "end = 9 * 60 * 60\n",
    "%time Gtransit = pt.load_feed_as_graph(feed, start, end)"
   ]
  },
  {
   "cell_type": "markdown",
   "metadata": {},
   "source": [
    "I pass this to a GeoDataFrame and send to .csv for future reference / visual inspection"
   ]
  },
  {
   "cell_type": "code",
   "execution_count": 13,
   "metadata": {},
   "outputs": [],
   "source": [
    "Gtransit_gdf = gn.edge_gdf_from_graph(Gtransit)\n",
    "Gtransit_gdf.to_csv(os.path.join(pth, 'transitnet.csv'))"
   ]
  },
  {
   "cell_type": "markdown",
   "metadata": {},
   "source": [
    "One thing we do need to do is make sure every edge on the GTFS network has a property called 'time' in its data dictionary, to ensure that there is one 'key' across the combined multimodal network which will always represent the traverse time of an edge, no matter where it came from.\n",
    "\n",
    "This will act as our impedance later for calculating journey times. As such, here we iterate through all edges and make a new property 'time', equal to 'length'. At first sight this looks counterintuitive - 'length' isn't time, right? But it is not, for Peartree loads GTFS feeds into graphs with the edge 'length' measured in seconds. Ergo, we have the value we need, it is just currently mis-labelled. As good practice we also add an edge 'mode' of 'GTFS transit', so we can pick apart the GTFS edges easily later."
   ]
  },
  {
   "cell_type": "code",
   "execution_count": 14,
   "metadata": {},
   "outputs": [
    {
     "name": "stdout",
     "output_type": "stream",
     "text": [
      "('4IVQV_0', '4IVQV_1', {'length': 65.33333333333333, 'mode': 'transit'})\n",
      "('4IVQV_0', '4IVQV_1', {'length': 65.33333333333333, 'mode': 'GTFStransit', 'time': 65.33333333333333})\n"
     ]
    }
   ],
   "source": [
    "gn.example_edge(Gtransit, 1)\n",
    "\n",
    "for u, v, data in Gtransit.edges(data = True):\n",
    "    data['time'] = data['length']\n",
    "    data['mode'] = 'GTFStransit'\n",
    "\n",
    "gn.example_edge(Gtransit, 1)"
   ]
  },
  {
   "cell_type": "markdown",
   "metadata": {},
   "source": [
    "### Bind the graphs"
   ]
  },
  {
   "cell_type": "markdown",
   "metadata": {},
   "source": [
    "Having prepared the walking and transit graphs individually, we now bind these together with GOSTnets' 'bind_graphs' command. The order of the graphs is important - the first is the base graph onto which we want to bind the smaller graph (second). \n",
    "\n",
    "The connection_threshold parameter is the distance in metres for which we will accept nodes to be 'bound' via the creation of a new edge. If there are no nodes on the other graph within 50m, no connection is made. the .crs of both objects is irrelevant, as this distance is always returned in projected metres, irrespective of the network objects passed to it. \n",
    "\n",
    "The speed parameter is the speed assumed for the new binding edges - as these trips are expected to be made on foot, the default is the same as our default walking speed of 4.5kmph.\n",
    "\n",
    "This function takes some time to run for larger networks, hence the use of progress statements. These can be turned off by adding an optional parameter, 'verbose = False' to the function call."
   ]
  },
  {
   "cell_type": "code",
   "execution_count": 15,
   "metadata": {},
   "outputs": [
    {
     "name": "stdout",
     "output_type": "stream",
     "text": [
      "peartree version: 0.6.0 \n",
      "networkx version: 2.2 \n",
      "matplotlib version: 2.2.2 \n",
      "osmnx version: 0.8.2 \n",
      "    finished binding 0 percent of nodes\n",
      "    finished binding 10 percent of nodes\n",
      "    finished binding 20 percent of nodes\n",
      "    finished binding 30 percent of nodes\n",
      "    finished binding 40 percent of nodes\n",
      "    finished binding 50 percent of nodes\n",
      "    finished binding 60 percent of nodes\n",
      "    finished binding 70 percent of nodes\n",
      "    finished binding 80 percent of nodes\n",
      "    finished binding 90 percent of nodes\n",
      "    finished binding 100 percent of nodes\n",
      "Wall time: 10min 8s\n"
     ]
    }
   ],
   "source": [
    "importlib.reload(gn)\n",
    "%time Gbound = gn.bind_graphs(Gwalk, Gtransit, name = 'GTFS', connection_threshold = 50, exempt_nodes = [], speed = 4.5)"
   ]
  },
  {
   "cell_type": "markdown",
   "metadata": {},
   "source": [
    "Once again, we send the bound network to .csv for visual inspection."
   ]
  },
  {
   "cell_type": "code",
   "execution_count": 16,
   "metadata": {},
   "outputs": [],
   "source": [
    "Gbound_gdf = gn.edge_gdf_from_graph(Gbound)\n",
    "Gbound_gdf.to_csv(os.path.join(pth, 'multinet.csv'))"
   ]
  },
  {
   "cell_type": "markdown",
   "metadata": {},
   "source": [
    "We also save the graphs we will use for travel time calculations in a handy format that will allow recall later"
   ]
  },
  {
   "cell_type": "code",
   "execution_count": 17,
   "metadata": {},
   "outputs": [
    {
     "ename": "NetworkXError",
     "evalue": "'streets_per_node' is not a valid key",
     "output_type": "error",
     "traceback": [
      "\u001b[1;31m---------------------------------------------------------------------------\u001b[0m",
      "\u001b[1;31mNetworkXError\u001b[0m                             Traceback (most recent call last)",
      "\u001b[1;32m<ipython-input-17-6d4e131990e3>\u001b[0m in \u001b[0;36m<module>\u001b[1;34m\u001b[0m\n\u001b[1;32m----> 1\u001b[1;33m \u001b[0mnx\u001b[0m\u001b[1;33m.\u001b[0m\u001b[0mwrite_gml\u001b[0m\u001b[1;33m(\u001b[0m\u001b[0mGbound\u001b[0m\u001b[1;33m,\u001b[0m \u001b[0mos\u001b[0m\u001b[1;33m.\u001b[0m\u001b[0mpath\u001b[0m\u001b[1;33m.\u001b[0m\u001b[0mjoin\u001b[0m\u001b[1;33m(\u001b[0m\u001b[0mpth\u001b[0m\u001b[1;33m,\u001b[0m \u001b[1;34m'multinet.gml'\u001b[0m\u001b[1;33m)\u001b[0m\u001b[1;33m)\u001b[0m\u001b[1;33m\u001b[0m\u001b[0m\n\u001b[0m\u001b[0;32m      2\u001b[0m \u001b[0mnx\u001b[0m\u001b[1;33m.\u001b[0m\u001b[0mwrite_gml\u001b[0m\u001b[1;33m(\u001b[0m\u001b[0mGwalk\u001b[0m\u001b[1;33m,\u001b[0m \u001b[0mos\u001b[0m\u001b[1;33m.\u001b[0m\u001b[0mpath\u001b[0m\u001b[1;33m.\u001b[0m\u001b[0mjoin\u001b[0m\u001b[1;33m(\u001b[0m\u001b[0mpth\u001b[0m\u001b[1;33m,\u001b[0m \u001b[1;34m'walknet.gml'\u001b[0m\u001b[1;33m)\u001b[0m\u001b[1;33m)\u001b[0m\u001b[1;33m\u001b[0m\u001b[0m\n",
      "\u001b[1;32m<decorator-gen-741>\u001b[0m in \u001b[0;36mwrite_gml\u001b[1;34m(G, path, stringizer)\u001b[0m\n",
      "\u001b[1;32m~\\AppData\\Local\\Continuum\\anaconda3\\envs\\Cfox_2\\lib\\site-packages\\networkx\\utils\\decorators.py\u001b[0m in \u001b[0;36m_open_file\u001b[1;34m(func_to_be_decorated, *args, **kwargs)\u001b[0m\n\u001b[0;32m    238\u001b[0m         \u001b[1;31m# Finally, we call the original function, making sure to close the fobj\u001b[0m\u001b[1;33m\u001b[0m\u001b[1;33m\u001b[0m\u001b[0m\n\u001b[0;32m    239\u001b[0m         \u001b[1;32mtry\u001b[0m\u001b[1;33m:\u001b[0m\u001b[1;33m\u001b[0m\u001b[0m\n\u001b[1;32m--> 240\u001b[1;33m             \u001b[0mresult\u001b[0m \u001b[1;33m=\u001b[0m \u001b[0mfunc_to_be_decorated\u001b[0m\u001b[1;33m(\u001b[0m\u001b[1;33m*\u001b[0m\u001b[0mnew_args\u001b[0m\u001b[1;33m,\u001b[0m \u001b[1;33m**\u001b[0m\u001b[0mkwargs\u001b[0m\u001b[1;33m)\u001b[0m\u001b[1;33m\u001b[0m\u001b[0m\n\u001b[0m\u001b[0;32m    241\u001b[0m         \u001b[1;32mfinally\u001b[0m\u001b[1;33m:\u001b[0m\u001b[1;33m\u001b[0m\u001b[0m\n\u001b[0;32m    242\u001b[0m             \u001b[1;32mif\u001b[0m \u001b[0mclose_fobj\u001b[0m\u001b[1;33m:\u001b[0m\u001b[1;33m\u001b[0m\u001b[0m\n",
      "\u001b[1;32m~\\AppData\\Local\\Continuum\\anaconda3\\envs\\Cfox_2\\lib\\site-packages\\networkx\\readwrite\\gml.py\u001b[0m in \u001b[0;36mwrite_gml\u001b[1;34m(G, path, stringizer)\u001b[0m\n\u001b[0;32m    811\u001b[0m     \u001b[1;33m>>\u001b[0m\u001b[1;33m>\u001b[0m \u001b[0mnx\u001b[0m\u001b[1;33m.\u001b[0m\u001b[0mwrite_gml\u001b[0m\u001b[1;33m(\u001b[0m\u001b[0mG\u001b[0m\u001b[1;33m,\u001b[0m \u001b[1;34m\"test.gml.gz\"\u001b[0m\u001b[1;33m)\u001b[0m\u001b[1;33m\u001b[0m\u001b[0m\n\u001b[0;32m    812\u001b[0m     \"\"\"\n\u001b[1;32m--> 813\u001b[1;33m     \u001b[1;32mfor\u001b[0m \u001b[0mline\u001b[0m \u001b[1;32min\u001b[0m \u001b[0mgenerate_gml\u001b[0m\u001b[1;33m(\u001b[0m\u001b[0mG\u001b[0m\u001b[1;33m,\u001b[0m \u001b[0mstringizer\u001b[0m\u001b[1;33m)\u001b[0m\u001b[1;33m:\u001b[0m\u001b[1;33m\u001b[0m\u001b[0m\n\u001b[0m\u001b[0;32m    814\u001b[0m         \u001b[0mpath\u001b[0m\u001b[1;33m.\u001b[0m\u001b[0mwrite\u001b[0m\u001b[1;33m(\u001b[0m\u001b[1;33m(\u001b[0m\u001b[0mline\u001b[0m \u001b[1;33m+\u001b[0m \u001b[1;34m'\\n'\u001b[0m\u001b[1;33m)\u001b[0m\u001b[1;33m.\u001b[0m\u001b[0mencode\u001b[0m\u001b[1;33m(\u001b[0m\u001b[1;34m'ascii'\u001b[0m\u001b[1;33m)\u001b[0m\u001b[1;33m)\u001b[0m\u001b[1;33m\u001b[0m\u001b[0m\n\u001b[0;32m    815\u001b[0m \u001b[1;33m\u001b[0m\u001b[0m\n",
      "\u001b[1;32m~\\AppData\\Local\\Continuum\\anaconda3\\envs\\Cfox_2\\lib\\site-packages\\networkx\\readwrite\\gml.py\u001b[0m in \u001b[0;36mgenerate_gml\u001b[1;34m(G, stringizer)\u001b[0m\n\u001b[0;32m    715\u001b[0m     \u001b[0mignored_keys\u001b[0m \u001b[1;33m=\u001b[0m \u001b[1;33m{\u001b[0m\u001b[1;34m'directed'\u001b[0m\u001b[1;33m,\u001b[0m \u001b[1;34m'multigraph'\u001b[0m\u001b[1;33m,\u001b[0m \u001b[1;34m'node'\u001b[0m\u001b[1;33m,\u001b[0m \u001b[1;34m'edge'\u001b[0m\u001b[1;33m}\u001b[0m\u001b[1;33m\u001b[0m\u001b[0m\n\u001b[0;32m    716\u001b[0m     \u001b[1;32mfor\u001b[0m \u001b[0mattr\u001b[0m\u001b[1;33m,\u001b[0m \u001b[0mvalue\u001b[0m \u001b[1;32min\u001b[0m \u001b[0mG\u001b[0m\u001b[1;33m.\u001b[0m\u001b[0mgraph\u001b[0m\u001b[1;33m.\u001b[0m\u001b[0mitems\u001b[0m\u001b[1;33m(\u001b[0m\u001b[1;33m)\u001b[0m\u001b[1;33m:\u001b[0m\u001b[1;33m\u001b[0m\u001b[0m\n\u001b[1;32m--> 717\u001b[1;33m         \u001b[1;32mfor\u001b[0m \u001b[0mline\u001b[0m \u001b[1;32min\u001b[0m \u001b[0mstringize\u001b[0m\u001b[1;33m(\u001b[0m\u001b[0mattr\u001b[0m\u001b[1;33m,\u001b[0m \u001b[0mvalue\u001b[0m\u001b[1;33m,\u001b[0m \u001b[0mignored_keys\u001b[0m\u001b[1;33m,\u001b[0m \u001b[1;34m'  '\u001b[0m\u001b[1;33m)\u001b[0m\u001b[1;33m:\u001b[0m\u001b[1;33m\u001b[0m\u001b[0m\n\u001b[0m\u001b[0;32m    718\u001b[0m             \u001b[1;32myield\u001b[0m \u001b[0mline\u001b[0m\u001b[1;33m\u001b[0m\u001b[0m\n\u001b[0;32m    719\u001b[0m \u001b[1;33m\u001b[0m\u001b[0m\n",
      "\u001b[1;32m~\\AppData\\Local\\Continuum\\anaconda3\\envs\\Cfox_2\\lib\\site-packages\\networkx\\readwrite\\gml.py\u001b[0m in \u001b[0;36mstringize\u001b[1;34m(key, value, ignored_keys, indent, in_list)\u001b[0m\n\u001b[0;32m    655\u001b[0m             \u001b[1;32mraise\u001b[0m \u001b[0mNetworkXError\u001b[0m\u001b[1;33m(\u001b[0m\u001b[1;34m'%r is not a string'\u001b[0m \u001b[1;33m%\u001b[0m \u001b[1;33m(\u001b[0m\u001b[0mkey\u001b[0m\u001b[1;33m,\u001b[0m\u001b[1;33m)\u001b[0m\u001b[1;33m)\u001b[0m\u001b[1;33m\u001b[0m\u001b[0m\n\u001b[0;32m    656\u001b[0m         \u001b[1;32mif\u001b[0m \u001b[1;32mnot\u001b[0m \u001b[0mvalid_keys\u001b[0m\u001b[1;33m.\u001b[0m\u001b[0mmatch\u001b[0m\u001b[1;33m(\u001b[0m\u001b[0mkey\u001b[0m\u001b[1;33m)\u001b[0m\u001b[1;33m:\u001b[0m\u001b[1;33m\u001b[0m\u001b[0m\n\u001b[1;32m--> 657\u001b[1;33m             \u001b[1;32mraise\u001b[0m \u001b[0mNetworkXError\u001b[0m\u001b[1;33m(\u001b[0m\u001b[1;34m'%r is not a valid key'\u001b[0m \u001b[1;33m%\u001b[0m \u001b[1;33m(\u001b[0m\u001b[0mkey\u001b[0m\u001b[1;33m,\u001b[0m\u001b[1;33m)\u001b[0m\u001b[1;33m)\u001b[0m\u001b[1;33m\u001b[0m\u001b[0m\n\u001b[0m\u001b[0;32m    658\u001b[0m         \u001b[1;32mif\u001b[0m \u001b[1;32mnot\u001b[0m \u001b[0misinstance\u001b[0m\u001b[1;33m(\u001b[0m\u001b[0mkey\u001b[0m\u001b[1;33m,\u001b[0m \u001b[0mstr\u001b[0m\u001b[1;33m)\u001b[0m\u001b[1;33m:\u001b[0m\u001b[1;33m\u001b[0m\u001b[0m\n\u001b[0;32m    659\u001b[0m             \u001b[0mkey\u001b[0m \u001b[1;33m=\u001b[0m \u001b[0mstr\u001b[0m\u001b[1;33m(\u001b[0m\u001b[0mkey\u001b[0m\u001b[1;33m)\u001b[0m\u001b[1;33m\u001b[0m\u001b[0m\n",
      "\u001b[1;31mNetworkXError\u001b[0m: 'streets_per_node' is not a valid key"
     ]
    }
   ],
   "source": [
    "nx.write_gml(Gbound, os.path.join(pth, 'multinet.gml'))\n",
    "nx.write_gml(Gwalk, os.path.join(pth, 'walknet.gml'))"
   ]
  },
  {
   "cell_type": "markdown",
   "metadata": {},
   "source": [
    "### Preparing the Journey File \n",
    "Having prepared the network, we now prepare the journey file which describes which trips will be made. \n",
    "\n",
    "We import the file of origins and destinations as a standard pandas dataframe using pd.read_csv"
   ]
  },
  {
   "cell_type": "code",
   "execution_count": 36,
   "metadata": {},
   "outputs": [
    {
     "data": {
      "text/html": [
       "<div>\n",
       "<style scoped>\n",
       "    .dataframe tbody tr th:only-of-type {\n",
       "        vertical-align: middle;\n",
       "    }\n",
       "\n",
       "    .dataframe tbody tr th {\n",
       "        vertical-align: top;\n",
       "    }\n",
       "\n",
       "    .dataframe thead th {\n",
       "        text-align: right;\n",
       "    }\n",
       "</style>\n",
       "<table border=\"1\" class=\"dataframe\">\n",
       "  <thead>\n",
       "    <tr style=\"text-align: right;\">\n",
       "      <th></th>\n",
       "      <th>gpsLatitude</th>\n",
       "      <th>gpsLongitude</th>\n",
       "      <th>ID</th>\n",
       "      <th>job_latitude</th>\n",
       "      <th>job_longitude</th>\n",
       "    </tr>\n",
       "  </thead>\n",
       "  <tbody>\n",
       "    <tr>\n",
       "      <th>0</th>\n",
       "      <td>-6.788069</td>\n",
       "      <td>39.270149</td>\n",
       "      <td>5</td>\n",
       "      <td>-6.815389</td>\n",
       "      <td>39.284908</td>\n",
       "    </tr>\n",
       "    <tr>\n",
       "      <th>1</th>\n",
       "      <td>-6.788004</td>\n",
       "      <td>39.269943</td>\n",
       "      <td>10</td>\n",
       "      <td>-6.782060</td>\n",
       "      <td>39.268879</td>\n",
       "    </tr>\n",
       "    <tr>\n",
       "      <th>2</th>\n",
       "      <td>-6.788637</td>\n",
       "      <td>39.245564</td>\n",
       "      <td>11</td>\n",
       "      <td>-6.867843</td>\n",
       "      <td>39.272415</td>\n",
       "    </tr>\n",
       "  </tbody>\n",
       "</table>\n",
       "</div>"
      ],
      "text/plain": [
       "   gpsLatitude  gpsLongitude  ID  job_latitude  job_longitude\n",
       "0    -6.788069     39.270149   5     -6.815389      39.284908\n",
       "1    -6.788004     39.269943  10     -6.782060      39.268879\n",
       "2    -6.788637     39.245564  11     -6.867843      39.272415"
      ]
     },
     "execution_count": 36,
     "metadata": {},
     "output_type": "execute_result"
    }
   ],
   "source": [
    "points = pd.read_csv(os.path.join(pth, pointz))\n",
    "\n",
    "points.head(3)"
   ]
  },
  {
   "cell_type": "markdown",
   "metadata": {},
   "source": [
    "Here, we define new columns, 'origin' and 'destination', which are shapely objects of the Lat / Long points for the origins and destinations. Longitude always comes first. We initially generate a tuple, then pass the tuple to shapely's Point() method to generate shapely point instances. These have geometric properties, as opposed to just being a string."
   ]
  },
  {
   "cell_type": "code",
   "execution_count": 37,
   "metadata": {},
   "outputs": [],
   "source": [
    "points['origin'] = list(zip(points.gpsLongitude, points.gpsLatitude))\n",
    "points['origin'] = points['origin'].apply(lambda x: Point(x))\n",
    "points['destination'] = list(zip(points.job_longitude, points.job_latitude))\n",
    "points['destination'] = points['destination'].apply(lambda x: Point(x))"
   ]
  },
  {
   "cell_type": "markdown",
   "metadata": {},
   "source": [
    "GOSTnets' snap_points_to_graph function requires a GeoDataFrame, so we generate one - by defining which column is the geometry (we will start with the origin col), and passing in the definition of the CRS (here, WGS 84). "
   ]
  },
  {
   "cell_type": "code",
   "execution_count": 38,
   "metadata": {},
   "outputs": [],
   "source": [
    "points = gpd.GeoDataFrame(points, crs = {'init':'epsg:4326'}, geometry = 'origin')"
   ]
  },
  {
   "cell_type": "markdown",
   "metadata": {},
   "source": [
    "We run the point snapper, which returns the nearest node's ID in a new column called 'Nearest_node'"
   ]
  },
  {
   "cell_type": "code",
   "execution_count": 39,
   "metadata": {},
   "outputs": [
    {
     "name": "stdout",
     "output_type": "stream",
     "text": [
      "peartree version: 0.6.0 \n",
      "networkx version: 2.2 \n",
      "matplotlib version: 2.2.2 \n",
      "osmnx version: 0.8.2 \n",
      "Wall time: 14.3 s\n"
     ]
    }
   ],
   "source": [
    "importlib.reload(gn)\n",
    "\n",
    "%time points_nn = gn.snap_points_to_graph(Gwalk, points, geomcol = 'origin')"
   ]
  },
  {
   "cell_type": "markdown",
   "metadata": {},
   "source": [
    "This isn't very helpful if the file contains both origins and destinations, as we will need the IDs of the closest node for both origin and destination points (one for each). Therefore, we rename the column we just calculated as 'Origin_node'."
   ]
  },
  {
   "cell_type": "code",
   "execution_count": 40,
   "metadata": {},
   "outputs": [],
   "source": [
    "points_nn = points_nn.rename(columns = {'Nearest_node':'Origin_node'})"
   ]
  },
  {
   "cell_type": "code",
   "execution_count": 41,
   "metadata": {},
   "outputs": [
    {
     "data": {
      "text/html": [
       "<div>\n",
       "<style scoped>\n",
       "    .dataframe tbody tr th:only-of-type {\n",
       "        vertical-align: middle;\n",
       "    }\n",
       "\n",
       "    .dataframe tbody tr th {\n",
       "        vertical-align: top;\n",
       "    }\n",
       "\n",
       "    .dataframe thead th {\n",
       "        text-align: right;\n",
       "    }\n",
       "</style>\n",
       "<table border=\"1\" class=\"dataframe\">\n",
       "  <thead>\n",
       "    <tr style=\"text-align: right;\">\n",
       "      <th></th>\n",
       "      <th>gpsLatitude</th>\n",
       "      <th>gpsLongitude</th>\n",
       "      <th>ID</th>\n",
       "      <th>job_latitude</th>\n",
       "      <th>job_longitude</th>\n",
       "      <th>origin</th>\n",
       "      <th>destination</th>\n",
       "      <th>Origin_node</th>\n",
       "    </tr>\n",
       "  </thead>\n",
       "  <tbody>\n",
       "    <tr>\n",
       "      <th>0</th>\n",
       "      <td>-6.788069</td>\n",
       "      <td>39.270149</td>\n",
       "      <td>5</td>\n",
       "      <td>-6.815389</td>\n",
       "      <td>39.284908</td>\n",
       "      <td>POINT (39.270149 -6.7880688)</td>\n",
       "      <td>POINT (39.284908 -6.815389200000001)</td>\n",
       "      <td>3500168844</td>\n",
       "    </tr>\n",
       "    <tr>\n",
       "      <th>1</th>\n",
       "      <td>-6.788004</td>\n",
       "      <td>39.269943</td>\n",
       "      <td>10</td>\n",
       "      <td>-6.782060</td>\n",
       "      <td>39.268879</td>\n",
       "      <td>POINT (39.269943 -6.788003900000001)</td>\n",
       "      <td>POINT (39.268879 -6.7820597)</td>\n",
       "      <td>1910420787</td>\n",
       "    </tr>\n",
       "    <tr>\n",
       "      <th>2</th>\n",
       "      <td>-6.788637</td>\n",
       "      <td>39.245564</td>\n",
       "      <td>11</td>\n",
       "      <td>-6.867843</td>\n",
       "      <td>39.272415</td>\n",
       "      <td>POINT (39.245564 -6.7886367)</td>\n",
       "      <td>POINT (39.272415 -6.8678427)</td>\n",
       "      <td>3457193660</td>\n",
       "    </tr>\n",
       "  </tbody>\n",
       "</table>\n",
       "</div>"
      ],
      "text/plain": [
       "   gpsLatitude  gpsLongitude  ID  job_latitude  job_longitude  \\\n",
       "0    -6.788069     39.270149   5     -6.815389      39.284908   \n",
       "1    -6.788004     39.269943  10     -6.782060      39.268879   \n",
       "2    -6.788637     39.245564  11     -6.867843      39.272415   \n",
       "\n",
       "                                 origin                           destination  \\\n",
       "0          POINT (39.270149 -6.7880688)  POINT (39.284908 -6.815389200000001)   \n",
       "1  POINT (39.269943 -6.788003900000001)          POINT (39.268879 -6.7820597)   \n",
       "2          POINT (39.245564 -6.7886367)          POINT (39.272415 -6.8678427)   \n",
       "\n",
       "   Origin_node  \n",
       "0   3500168844  \n",
       "1   1910420787  \n",
       "2   3457193660  "
      ]
     },
     "execution_count": 41,
     "metadata": {},
     "output_type": "execute_result"
    }
   ],
   "source": [
    "points_nn.head(3)"
   ]
  },
  {
   "cell_type": "markdown",
   "metadata": {},
   "source": [
    "We re-define the geometry property of the GeoDataFrame as the destination column. for more info on why this is relevant and necessary, check out: http://geopandas.org/data_structures.html"
   ]
  },
  {
   "cell_type": "code",
   "execution_count": 42,
   "metadata": {},
   "outputs": [],
   "source": [
    "points_nn = points_nn.set_geometry('destination')"
   ]
  },
  {
   "cell_type": "markdown",
   "metadata": {},
   "source": [
    "We now re-run snap_points, asking it instead to snap the destination points to the graph and return the nearest node"
   ]
  },
  {
   "cell_type": "code",
   "execution_count": 43,
   "metadata": {},
   "outputs": [
    {
     "name": "stdout",
     "output_type": "stream",
     "text": [
      "peartree version: 0.6.0 \n",
      "networkx version: 2.2 \n",
      "matplotlib version: 2.2.2 \n",
      "osmnx version: 0.8.2 \n",
      "Wall time: 14.1 s\n"
     ]
    }
   ],
   "source": [
    "importlib.reload(gn)\n",
    "\n",
    "%time points_nn = gn.snap_points_to_graph(Gwalk, points_nn, geomcol = 'destination')"
   ]
  },
  {
   "cell_type": "markdown",
   "metadata": {},
   "source": [
    "We rename the resulting column as 'Destination_node' for ease of keeping track of what's going on"
   ]
  },
  {
   "cell_type": "code",
   "execution_count": 44,
   "metadata": {},
   "outputs": [],
   "source": [
    "points_nn = points_nn.rename(columns = {'Nearest_node':'Destination_node'})"
   ]
  },
  {
   "cell_type": "markdown",
   "metadata": {},
   "source": [
    "We check to make sure the dataframe looks how we want it to after the snapping process has been completed. We print the first 3 rows:"
   ]
  },
  {
   "cell_type": "code",
   "execution_count": 45,
   "metadata": {},
   "outputs": [
    {
     "data": {
      "text/html": [
       "<div>\n",
       "<style scoped>\n",
       "    .dataframe tbody tr th:only-of-type {\n",
       "        vertical-align: middle;\n",
       "    }\n",
       "\n",
       "    .dataframe tbody tr th {\n",
       "        vertical-align: top;\n",
       "    }\n",
       "\n",
       "    .dataframe thead th {\n",
       "        text-align: right;\n",
       "    }\n",
       "</style>\n",
       "<table border=\"1\" class=\"dataframe\">\n",
       "  <thead>\n",
       "    <tr style=\"text-align: right;\">\n",
       "      <th></th>\n",
       "      <th>gpsLatitude</th>\n",
       "      <th>gpsLongitude</th>\n",
       "      <th>ID</th>\n",
       "      <th>job_latitude</th>\n",
       "      <th>job_longitude</th>\n",
       "      <th>origin</th>\n",
       "      <th>destination</th>\n",
       "      <th>Origin_node</th>\n",
       "      <th>Destination_node</th>\n",
       "    </tr>\n",
       "  </thead>\n",
       "  <tbody>\n",
       "    <tr>\n",
       "      <th>0</th>\n",
       "      <td>-6.788069</td>\n",
       "      <td>39.270149</td>\n",
       "      <td>5</td>\n",
       "      <td>-6.815389</td>\n",
       "      <td>39.284908</td>\n",
       "      <td>POINT (39.270149 -6.7880688)</td>\n",
       "      <td>POINT (39.284908 -6.815389200000001)</td>\n",
       "      <td>3500168844</td>\n",
       "      <td>3727522143</td>\n",
       "    </tr>\n",
       "    <tr>\n",
       "      <th>1</th>\n",
       "      <td>-6.788004</td>\n",
       "      <td>39.269943</td>\n",
       "      <td>10</td>\n",
       "      <td>-6.782060</td>\n",
       "      <td>39.268879</td>\n",
       "      <td>POINT (39.269943 -6.788003900000001)</td>\n",
       "      <td>POINT (39.268879 -6.7820597)</td>\n",
       "      <td>1910420787</td>\n",
       "      <td>4699740135</td>\n",
       "    </tr>\n",
       "    <tr>\n",
       "      <th>2</th>\n",
       "      <td>-6.788637</td>\n",
       "      <td>39.245564</td>\n",
       "      <td>11</td>\n",
       "      <td>-6.867843</td>\n",
       "      <td>39.272415</td>\n",
       "      <td>POINT (39.245564 -6.7886367)</td>\n",
       "      <td>POINT (39.272415 -6.8678427)</td>\n",
       "      <td>3457193660</td>\n",
       "      <td>4714173941</td>\n",
       "    </tr>\n",
       "  </tbody>\n",
       "</table>\n",
       "</div>"
      ],
      "text/plain": [
       "   gpsLatitude  gpsLongitude  ID  job_latitude  job_longitude  \\\n",
       "0    -6.788069     39.270149   5     -6.815389      39.284908   \n",
       "1    -6.788004     39.269943  10     -6.782060      39.268879   \n",
       "2    -6.788637     39.245564  11     -6.867843      39.272415   \n",
       "\n",
       "                                 origin                           destination  \\\n",
       "0          POINT (39.270149 -6.7880688)  POINT (39.284908 -6.815389200000001)   \n",
       "1  POINT (39.269943 -6.788003900000001)          POINT (39.268879 -6.7820597)   \n",
       "2          POINT (39.245564 -6.7886367)          POINT (39.272415 -6.8678427)   \n",
       "\n",
       "   Origin_node  Destination_node  \n",
       "0   3500168844        3727522143  \n",
       "1   1910420787        4699740135  \n",
       "2   3457193660        4714173941  "
      ]
     },
     "execution_count": 45,
     "metadata": {},
     "output_type": "execute_result"
    }
   ],
   "source": [
    "points_nn.head(3)"
   ]
  },
  {
   "cell_type": "markdown",
   "metadata": {},
   "source": [
    "Save our prepared dataframe as a .csv"
   ]
  },
  {
   "cell_type": "code",
   "execution_count": 46,
   "metadata": {},
   "outputs": [],
   "source": [
    "points_nn.to_csv(os.path.join(pth, 'preparedpoints.csv'))"
   ]
  },
  {
   "cell_type": "markdown",
   "metadata": {},
   "source": [
    "### Running the travel time calculations"
   ]
  },
  {
   "cell_type": "markdown",
   "metadata": {},
   "source": [
    "Re-import saved versions of our prepared graphs and points file"
   ]
  },
  {
   "cell_type": "code",
   "execution_count": 48,
   "metadata": {},
   "outputs": [],
   "source": [
    "#Gbound = nx.read_gml(os.path.join(pth, 'multinet.gml'))\n",
    "#Gwalk = nx.read_gml(os.path.join(pth, 'walknet.gml'))\n",
    "points = pd.read_csv(os.path.join(pth, 'preparedpoints.csv'))"
   ]
  },
  {
   "cell_type": "markdown",
   "metadata": {},
   "source": [
    "For each origin and destination we now have an approximate node start and end point. We also have a fully connected multi-modal network with a consistently labelled traverse time for each edge. We are ready to start calculating travel times at this point.\n",
    "\n",
    "Networkx' shortest path calculation requires that we pass it the origins, the destination, and the time. So, we iterate through our DataFrame like so:"
   ]
  },
  {
   "cell_type": "code",
   "execution_count": 53,
   "metadata": {},
   "outputs": [
    {
     "name": "stdout",
     "output_type": "stream",
     "text": [
      "100 trips done\n",
      "200 trips done\n",
      "300 trips done\n",
      "400 trips done\n",
      "500 trips done\n",
      "600 trips done\n",
      "700 trips done\n",
      "800 trips done\n",
      "900 trips done\n"
     ]
    }
   ],
   "source": [
    "points_nn['TT_multi'] = 0\n",
    "points_nn['TT_walking'] = 0\n",
    "\n",
    "for i in range(0, len(points_nn)):\n",
    "    origin = points_nn.Origin_node.loc[i]\n",
    "    destination = points_nn.Destination_node.loc[i] \n",
    "    try:\n",
    "        points_nn['TT_multi'].loc[i] = nx.shortest_path_length(Gbound, source=origin, target=destination, weight='time')\n",
    "    except:\n",
    "        points_nn['TT_multi'].loc[i] = None\n",
    "    try:\n",
    "        points_nn['TT_walking'].loc[i] = nx.shortest_path_length(Gwalk, source=origin, target=destination, weight='time')\n",
    "    except:\n",
    "        points_nn['TT_walking'].loc[i] = None\n",
    "    if i % 100 == 0 and i != 0:\n",
    "        print('%d trips done' % i)\n",
    "    elif i == len(points_nn):\n",
    "        print('Analysis complete')"
   ]
  },
  {
   "cell_type": "markdown",
   "metadata": {},
   "source": [
    "Convert values in seconds to minutes; identify travel time reduction from utilizing transit network"
   ]
  },
  {
   "cell_type": "code",
   "execution_count": 55,
   "metadata": {},
   "outputs": [],
   "source": [
    "out = points_nn.copy()\n",
    "out['TT_walking'] = out['TT_walking'] / 60\n",
    "out['TT_multi'] = out['TT_multi'] / 60\n",
    "out['perf_improvement'] = 1 - (out['TT_multi'] / out['TT_walking'])"
   ]
  },
  {
   "cell_type": "markdown",
   "metadata": {},
   "source": [
    "Calculate average trip time reduction from use of the transit network"
   ]
  },
  {
   "cell_type": "code",
   "execution_count": 57,
   "metadata": {},
   "outputs": [
    {
     "name": "stdout",
     "output_type": "stream",
     "text": [
      "Average performance improvement: 38 percent\n"
     ]
    }
   ],
   "source": [
    "print('Average performance improvement: %d percent' % int(out['perf_improvement'].mean() * 100))"
   ]
  },
  {
   "cell_type": "markdown",
   "metadata": {},
   "source": [
    "Send the results to .csv"
   ]
  },
  {
   "cell_type": "code",
   "execution_count": 58,
   "metadata": {},
   "outputs": [],
   "source": [
    "out.to_csv(os.path.join(pth, 'output.csv'))"
   ]
  },
  {
   "cell_type": "markdown",
   "metadata": {},
   "source": [
    "Comments? Questions? cfox1@worldbank.org"
   ]
  }
 ],
 "metadata": {
  "kernelspec": {
   "display_name": "Python (Cfox2)",
   "language": "python",
   "name": "cfox2"
  },
  "language_info": {
   "codemirror_mode": {
    "name": "ipython",
    "version": 3
   },
   "file_extension": ".py",
   "mimetype": "text/x-python",
   "name": "python",
   "nbconvert_exporter": "python",
   "pygments_lexer": "ipython3",
   "version": "3.6.6"
  }
 },
 "nbformat": 4,
 "nbformat_minor": 2
}
