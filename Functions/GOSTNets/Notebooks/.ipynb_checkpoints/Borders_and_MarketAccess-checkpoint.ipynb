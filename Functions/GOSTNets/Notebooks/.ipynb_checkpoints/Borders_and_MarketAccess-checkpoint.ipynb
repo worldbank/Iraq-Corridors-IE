{
 "cells": [
  {
   "cell_type": "code",
   "execution_count": 2,
   "metadata": {},
   "outputs": [
    {
     "name": "stdout",
     "output_type": "stream",
     "text": [
      "peartree version: 0.6.0 \n",
      "networkx version: 2.2 \n",
      "matplotlib version: 2.2.2 \n",
      "osmnx version: 0.8.2 \n"
     ]
    }
   ],
   "source": [
    "import importlib\n",
    "import sys,os,math,time\n",
    "\n",
    "gostNetsFolder = os.path.dirname(os.getcwd())\n",
    "sys.path.insert(0, gostNetsFolder)\n",
    "from GOSTNets import GOSTnet as gn\n",
    "from GOSTNets import OSMParser\n",
    "importlib.reload(gn)\n",
    "\n",
    "import networkx as nx\n",
    "import geopandas as gpd\n",
    "import numpy as np\n",
    "import osmnx as ox\n",
    "import pandas as pd\n",
    "import rasterio\n",
    "\n",
    "from shapely.geometry import Point\n",
    "from shapely.ops import nearest_points"
   ]
  },
  {
   "cell_type": "code",
   "execution_count": 60,
   "metadata": {},
   "outputs": [],
   "source": [
    "inputPBF = r\"Q:\\AFRICA\\MRT\\INFRA\\mauritania-latest_20190103_OSMLR12.osm.xml\"\n",
    "inputBorders = r\"Q:\\AFRICA\\MRT\\INFRA\\MRT_Fake_Border.shp\"\n",
    "originFile = r\"Q:\\AFRICA\\MRT\\INFRA\\Origins.shp\"\n",
    "destFile = r\"Q:\\AFRICA\\MRT\\INFRA\\Destinations.shp\""
   ]
  },
  {
   "cell_type": "code",
   "execution_count": 69,
   "metadata": {},
   "outputs": [
    {
     "data": {
      "text/html": [
       "<div>\n",
       "<style scoped>\n",
       "    .dataframe tbody tr th:only-of-type {\n",
       "        vertical-align: middle;\n",
       "    }\n",
       "\n",
       "    .dataframe tbody tr th {\n",
       "        vertical-align: top;\n",
       "    }\n",
       "\n",
       "    .dataframe thead th {\n",
       "        text-align: right;\n",
       "    }\n",
       "</style>\n",
       "<table border=\"1\" class=\"dataframe\">\n",
       "  <thead>\n",
       "    <tr style=\"text-align: right;\">\n",
       "      <th></th>\n",
       "      <th>node_ID</th>\n",
       "      <th>lat</th>\n",
       "      <th>lon</th>\n",
       "      <th>id</th>\n",
       "      <th>geometry</th>\n",
       "    </tr>\n",
       "  </thead>\n",
       "  <tbody>\n",
       "    <tr>\n",
       "      <th>0</th>\n",
       "      <td>4244699825</td>\n",
       "      <td>16.945679</td>\n",
       "      <td>-15.194188</td>\n",
       "      <td>4244699825</td>\n",
       "      <td>POINT (-15.1941884 16.9456794)</td>\n",
       "    </tr>\n",
       "    <tr>\n",
       "      <th>1</th>\n",
       "      <td>2241915521</td>\n",
       "      <td>16.449583</td>\n",
       "      <td>-15.646090</td>\n",
       "      <td>2241915521</td>\n",
       "      <td>POINT (-15.6460905 16.4495825)</td>\n",
       "    </tr>\n",
       "    <tr>\n",
       "      <th>2</th>\n",
       "      <td>4603254440</td>\n",
       "      <td>15.269953</td>\n",
       "      <td>-12.868975</td>\n",
       "      <td>4603254440</td>\n",
       "      <td>POINT (-12.8689754 15.2699527)</td>\n",
       "    </tr>\n",
       "    <tr>\n",
       "      <th>3</th>\n",
       "      <td>5297654164</td>\n",
       "      <td>26.998836</td>\n",
       "      <td>-8.079721</td>\n",
       "      <td>5297654164</td>\n",
       "      <td>POINT (-8.0797206 26.9988361)</td>\n",
       "    </tr>\n",
       "    <tr>\n",
       "      <th>4</th>\n",
       "      <td>4186327402</td>\n",
       "      <td>14.921902</td>\n",
       "      <td>-12.523779</td>\n",
       "      <td>4186327402</td>\n",
       "      <td>POINT (-12.5237794 14.9219024)</td>\n",
       "    </tr>\n",
       "  </tbody>\n",
       "</table>\n",
       "</div>"
      ],
      "text/plain": [
       "      node_ID        lat        lon          id  \\\n",
       "0  4244699825  16.945679 -15.194188  4244699825   \n",
       "1  2241915521  16.449583 -15.646090  2241915521   \n",
       "2  4603254440  15.269953 -12.868975  4603254440   \n",
       "3  5297654164  26.998836  -8.079721  5297654164   \n",
       "4  4186327402  14.921902 -12.523779  4186327402   \n",
       "\n",
       "                         geometry  \n",
       "0  POINT (-15.1941884 16.9456794)  \n",
       "1  POINT (-15.6460905 16.4495825)  \n",
       "2  POINT (-12.8689754 15.2699527)  \n",
       "3   POINT (-8.0797206 26.9988361)  \n",
       "4  POINT (-12.5237794 14.9219024)  "
      ]
     },
     "execution_count": 69,
     "metadata": {},
     "output_type": "execute_result"
    }
   ],
   "source": []
  },
  {
   "cell_type": "code",
   "execution_count": 40,
   "metadata": {},
   "outputs": [
    {
     "name": "stdout",
     "output_type": "stream",
     "text": [
      "peartree version: 0.6.0 \n",
      "networkx version: 2.2 \n",
      "matplotlib version: 2.2.2 \n",
      "osmnx version: 0.8.2 \n"
     ]
    }
   ],
   "source": [
    "#Read in the network object and convert to GDF\n",
    "importlib.reload(OSMParser)\n",
    "importlib.reload(gn)\n",
    "\n",
    "G = OSMParser.read_osm(inputPBF)\n",
    "G = gn.convert_network_to_time(G, distance_tag = 'length', speed_dict = gn.speed_dict)\n",
    "edgeDF = gn.edge_gdf_from_graph(G, xCol='lon', yCol='lat')\n",
    "nodeDF = gn.node_gdf_from_graph(G, xCol='lon', yCol='lat')\n",
    "\n",
    "inB = gpd.read_file(inputBorders)\n",
    "inO = gpd.read_file(originFile)\n",
    "inD = gpd.read_file(destFile)"
   ]
  },
  {
   "cell_type": "code",
   "execution_count": 54,
   "metadata": {},
   "outputs": [],
   "source": [
    "#Identify all network edges that intersect the borders file\n",
    "adjustments = {}\n",
    "for idx, row in inB.iterrows():\n",
    "    #Select the roads that intersect this border\n",
    "    ### TODO - use a spatial index here, it is too slow\n",
    "    intersections = edgeDF[edgeDF.intersects(row['geometry'])]\n",
    "    for selIdx, selRow in intersections.iterrows():\n",
    "        adjustments[selRow['id']] = row['id']"
   ]
  },
  {
   "cell_type": "code",
   "execution_count": 59,
   "metadata": {},
   "outputs": [],
   "source": [
    "#Loop through edges in network and add time\n",
    "G_adj = G.copy()\n",
    "for u,v,data in G_adj.edges(data=True):\n",
    "    if data['id'] in adjustments.keys():\n",
    "        data['time'] = data['time'] + adjustments[data['id']]"
   ]
  },
  {
   "cell_type": "code",
   "execution_count": 82,
   "metadata": {},
   "outputs": [
    {
     "name": "stdout",
     "output_type": "stream",
     "text": [
      "peartree version: 0.6.0 \n",
      "networkx version: 2.2 \n",
      "matplotlib version: 2.2.2 \n",
      "osmnx version: 0.8.2 \n"
     ]
    }
   ],
   "source": [
    "# identify intersecting nodes for input and output nodes\n",
    "importlib.reload(gn)\n",
    "\n",
    "inNodes = []\n",
    "destNodes = []\n",
    "for idx, row in inO.iterrows():\n",
    "    nPt = nodeDF.distance(row['geometry'])\n",
    "    inNodes.append(nodeDF['node_ID'][nPt.idxmin()])    \n",
    "\n",
    "destNodes = []\n",
    "for idx, row in inD.iterrows():\n",
    "    nPt = nodeDF.distance(row['geometry'])\n",
    "    destNodes.append(nodeDF['node_ID'][nPt.idxmin()])    \n"
   ]
  },
  {
   "cell_type": "code",
   "execution_count": 87,
   "metadata": {},
   "outputs": [],
   "source": [
    "#Run OD matrix\n",
    "undistrubed = gn.calculate_OD(G, inNodes, destNodes, -1)\n",
    "distrubed = gn.calculate_OD(G_adj, inNodes, destNodes, -1)"
   ]
  },
  {
   "cell_type": "code",
   "execution_count": 91,
   "metadata": {},
   "outputs": [
    {
     "data": {
      "text/plain": [
       "array([[ 1.39535773e+05,  6.78733044e+04,  4.26197620e+04,\n",
       "         2.18072575e+05,  1.42461643e+05,  1.44873726e+05,\n",
       "         1.34954985e+05],\n",
       "       [ 1.49363498e+05,  1.77353410e+05,  2.01605392e+05,\n",
       "         2.54374069e+04,  1.03282744e+05,  1.39911843e+05,\n",
       "         1.69704770e+05],\n",
       "       [-1.00000000e+00, -1.00000000e+00, -1.00000000e+00,\n",
       "        -1.00000000e+00, -1.00000000e+00, -1.00000000e+00,\n",
       "        -1.00000000e+00],\n",
       "       [ 7.79393099e+04,  1.05929221e+05,  1.30181204e+05,\n",
       "         4.65422604e+04,  3.18585559e+04,  6.84876549e+04,\n",
       "         9.82805814e+04],\n",
       "       [ 7.05549500e+04,  1.60438247e+04,  4.02958071e+04,\n",
       "         1.43257082e+05,  7.09093568e+04,  7.33214398e+04,\n",
       "         8.86583795e+04],\n",
       "       [ 2.33595996e+04,  5.45071632e+04,  7.87591455e+04,\n",
       "         1.01561047e+05,  2.37036660e+04,  2.56906134e+04,\n",
       "         4.37008711e+04],\n",
       "       [ 1.02147646e+04,  6.91749603e+04,  8.79349868e+04,\n",
       "         1.32951229e+05,  5.50938481e+04,  5.72200441e+04,\n",
       "         1.13375779e+04]])"
      ]
     },
     "execution_count": 91,
     "metadata": {},
     "output_type": "execute_result"
    }
   ],
   "source": [
    "distrubed"
   ]
  },
  {
   "cell_type": "code",
   "execution_count": 92,
   "metadata": {},
   "outputs": [
    {
     "data": {
      "text/plain": [
       "array([[ 1.33467236e+05,  6.25933044e+04,  4.26197620e+04,\n",
       "         2.09792575e+05,  1.33821643e+05,  1.36233726e+05,\n",
       "         1.34954985e+05],\n",
       "       [ 1.49363498e+05,  1.74353410e+05,  1.93325392e+05,\n",
       "         2.54374069e+04,  1.03282744e+05,  1.39911843e+05,\n",
       "         1.69704770e+05],\n",
       "       [-1.00000000e+00, -1.00000000e+00, -1.00000000e+00,\n",
       "        -1.00000000e+00, -1.00000000e+00, -1.00000000e+00,\n",
       "        -1.00000000e+00],\n",
       "       [ 7.79393099e+04,  1.02929221e+05,  1.21901204e+05,\n",
       "         4.65422604e+04,  3.18585559e+04,  6.84876549e+04,\n",
       "         9.82805814e+04],\n",
       "       [ 6.71949500e+04,  1.60438247e+04,  3.50158071e+04,\n",
       "         1.40257082e+05,  6.75493568e+04,  6.99614398e+04,\n",
       "         8.75362215e+04],\n",
       "       [ 2.33595996e+04,  5.11471632e+04,  7.01191455e+04,\n",
       "         1.01561047e+05,  2.37036660e+04,  2.56906134e+04,\n",
       "         4.37008711e+04],\n",
       "       [ 1.02147646e+04,  6.91749603e+04,  8.79349868e+04,\n",
       "         1.32951229e+05,  5.50938481e+04,  5.72200441e+04,\n",
       "         1.13375779e+04]])"
      ]
     },
     "execution_count": 92,
     "metadata": {},
     "output_type": "execute_result"
    }
   ],
   "source": [
    "undistrubed"
   ]
  },
  {
   "cell_type": "code",
   "execution_count": null,
   "metadata": {},
   "outputs": [],
   "source": []
  }
 ],
 "metadata": {
  "kernelspec": {
   "display_name": "Python 3",
   "language": "python",
   "name": "python3"
  },
  "language_info": {
   "codemirror_mode": {
    "name": "ipython",
    "version": 3
   },
   "file_extension": ".py",
   "mimetype": "text/x-python",
   "name": "python",
   "nbconvert_exporter": "python",
   "pygments_lexer": "ipython3",
   "version": "3.5.6"
  }
 },
 "nbformat": 4,
 "nbformat_minor": 2
}
