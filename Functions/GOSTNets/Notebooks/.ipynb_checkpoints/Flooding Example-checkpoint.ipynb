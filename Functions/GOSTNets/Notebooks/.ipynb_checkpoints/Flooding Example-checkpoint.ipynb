{
 "cells": [
  {
   "cell_type": "code",
   "execution_count": 1,
   "metadata": {},
   "outputs": [
    {
     "name": "stdout",
     "output_type": "stream",
     "text": [
      "peartree version: 0.6.0 \n",
      "networkx version: 2.2 \n",
      "matplotlib version: 2.2.2 \n",
      "osmnx version: 0.8.2 \n",
      "peartree version: 0.6.0 \n",
      "networkx version: 2.2 \n",
      "matplotlib version: 2.2.2 \n",
      "osmnx version: 0.8.2 \n"
     ]
    }
   ],
   "source": [
    "import importlib\n",
    "import sys,os,math,time\n",
    "\n",
    "gostNetsFolder = os.path.dirname(os.getcwd())\n",
    "sys.path.insert(0, gostNetsFolder)\n",
    "from GOSTNets import GOSTnet as gn\n",
    "importlib.reload(gn)\n",
    "\n",
    "import networkx as nx\n",
    "import geopandas as gpd\n",
    "import numpy as np\n",
    "import osmnx as ox\n",
    "import pandas as pd\n",
    "import rasterio\n",
    "\n",
    "from shapely.geometry import Point"
   ]
  },
  {
   "cell_type": "code",
   "execution_count": 22,
   "metadata": {},
   "outputs": [],
   "source": [
    "pth = os.path.join(gostNetsFolder, \"SampleData\")\n",
    "boundfile = r'AOI.shp'\n",
    "tif = r'SampleFlood.tif'\n",
    "tif_path = os.path.join(pth, tif)\n",
    "points1 = os.path.join(pth, \"origins.shp\")\n",
    "points2 = os.path.join(pth, \"destinations.shp\")"
   ]
  },
  {
   "cell_type": "markdown",
   "metadata": {},
   "source": [
    "### Generate shape from shapefile"
   ]
  },
  {
   "cell_type": "code",
   "execution_count": 32,
   "metadata": {},
   "outputs": [],
   "source": [
    "shp = gpd.read_file(os.path.join(pth, boundfile))\n",
    "bound = shp.geometry.iloc[0]"
   ]
  },
  {
   "cell_type": "code",
   "execution_count": 33,
   "metadata": {},
   "outputs": [
    {
     "data": {
      "image/svg+xml": [
       "<svg xmlns=\"http://www.w3.org/2000/svg\" xmlns:xlink=\"http://www.w3.org/1999/xlink\" width=\"100.0\" height=\"100.0\" viewBox=\"36.5691029160675 -1.4972807074698207 0.6139589697563608 0.4281500692300504\" preserveAspectRatio=\"xMinYMin meet\"><g transform=\"matrix(1,0,0,-1,0,-2.566411345709591)\"><path fill-rule=\"evenodd\" fill=\"#66cc99\" stroke=\"#555555\" stroke-width=\"0.012279179395127215\" opacity=\"0.6\" d=\"M 36.59335909737929,-1.0934261285113773 L 37.0686802119814,-1.092537542268687 L 37.16015277295697,-1.0918698593418579 L 37.160322664721775,-1.4740494196021505 L 36.591842137169586,-1.474541486367733 L 36.59335909737929,-1.0934261285113773 z\" /></g></svg>"
      ],
      "text/plain": [
       "<shapely.geometry.polygon.Polygon at 0x2268d604320>"
      ]
     },
     "execution_count": 33,
     "metadata": {},
     "output_type": "execute_result"
    }
   ],
   "source": [
    "bound"
   ]
  },
  {
   "cell_type": "markdown",
   "metadata": {},
   "source": [
    "### Get OSM Graph of Road Network"
   ]
  },
  {
   "cell_type": "code",
   "execution_count": 34,
   "metadata": {},
   "outputs": [],
   "source": [
    "G = ox.graph_from_polygon(bound, network_type = 'drive')"
   ]
  },
  {
   "cell_type": "markdown",
   "metadata": {},
   "source": [
    "Have a look at what an edge looks like"
   ]
  },
  {
   "cell_type": "code",
   "execution_count": 35,
   "metadata": {},
   "outputs": [
    {
     "name": "stdout",
     "output_type": "stream",
     "text": [
      "(6010044417, 6013485258, {'osmid': [637515176, 637969614], 'length': 227.43599999999998, 'highway': 'unclassified', 'oneway': False, 'geometry': <shapely.geometry.linestring.LineString object at 0x000002268D5FADA0>})\n"
     ]
    }
   ],
   "source": [
    "gn.example_edge(G, 1)"
   ]
  },
  {
   "cell_type": "code",
   "execution_count": 36,
   "metadata": {},
   "outputs": [
    {
     "name": "stdout",
     "output_type": "stream",
     "text": [
      "number of roads in object: 60911\n",
      "number of nodes in object: 24819\n"
     ]
    }
   ],
   "source": [
    "print('number of roads in object: %d' % G.number_of_edges())\n",
    "print('number of nodes in object: %d' % G.number_of_nodes())"
   ]
  },
  {
   "cell_type": "markdown",
   "metadata": {},
   "source": [
    "### Convert Network to Time"
   ]
  },
  {
   "cell_type": "code",
   "execution_count": 37,
   "metadata": {},
   "outputs": [],
   "source": [
    "speed_dict = {\n",
    "                'residential': 20,  # kmph\n",
    "                'primary': 40, # kmph\n",
    "                'primary_link':35,\n",
    "                'motorway':45,\n",
    "                'motorway_link': 40,\n",
    "                'trunk': 40,\n",
    "                'trunk_link':35,\n",
    "                'secondary': 30, # kmph\n",
    "                'secondary_link':25,\n",
    "                'tertiary':30,\n",
    "                'tertiary_link': 25,\n",
    "                'unclassified':20, \n",
    "                'road':20,\n",
    "                'crossing':20,\n",
    "                'living_street':20\n",
    "                }"
   ]
  },
  {
   "cell_type": "code",
   "execution_count": 38,
   "metadata": {},
   "outputs": [],
   "source": [
    "G = gn.convert_network_to_time(G, distance_tag = 'length', speed_dict = speed_dict)"
   ]
  },
  {
   "cell_type": "code",
   "execution_count": 39,
   "metadata": {},
   "outputs": [
    {
     "name": "stdout",
     "output_type": "stream",
     "text": [
      "(6010044417, 6013485258, {'mode': 'drive', 'time': 40.93848, 'osmid': [637515176, 637969614], 'length': 227.43599999999998, 'highway': 'unclassified', 'oneway': False, 'geometry': <shapely.geometry.linestring.LineString object at 0x000002268D5FADA0>})\n"
     ]
    }
   ],
   "source": [
    "gn.example_edge(G, 1)"
   ]
  },
  {
   "cell_type": "markdown",
   "metadata": {},
   "source": [
    "### Create association between points and road network nodes"
   ]
  },
  {
   "cell_type": "markdown",
   "metadata": {},
   "source": [
    "Prepare the point dataframe - make a GeoDataFrame, set crs to WGS84"
   ]
  },
  {
   "cell_type": "code",
   "execution_count": 40,
   "metadata": {},
   "outputs": [],
   "source": [
    "'''\n",
    "pointdf = pd.read_csv(points1)\n",
    "pointdf['geometry'] = list((zip(pointdf.lon, pointdf.lat)))\n",
    "pointdf['geometry'] = pointdf['geometry'].apply(lambda x: Point(x))\n",
    "pointgdf = gpd.GeoDataFrame(pointdf, crs = {'init':'espg:4326'}, geometry = 'geometry')\n",
    "'''\n",
    "pointgdf = gpd.read_file(points1)"
   ]
  },
  {
   "cell_type": "markdown",
   "metadata": {},
   "source": [
    "Find the nearest node to each input point. These may not be unique (two or more firms might be mapped to same node)"
   ]
  },
  {
   "cell_type": "code",
   "execution_count": 41,
   "metadata": {},
   "outputs": [
    {
     "data": {
      "text/html": [
       "<div>\n",
       "<style scoped>\n",
       "    .dataframe tbody tr th:only-of-type {\n",
       "        vertical-align: middle;\n",
       "    }\n",
       "\n",
       "    .dataframe tbody tr th {\n",
       "        vertical-align: top;\n",
       "    }\n",
       "\n",
       "    .dataframe thead th {\n",
       "        text-align: right;\n",
       "    }\n",
       "</style>\n",
       "<table border=\"1\" class=\"dataframe\">\n",
       "  <thead>\n",
       "    <tr style=\"text-align: right;\">\n",
       "      <th></th>\n",
       "      <th>id</th>\n",
       "      <th>geometry</th>\n",
       "      <th>Nearest_node_ID</th>\n",
       "      <th>Nearest_node_dist</th>\n",
       "    </tr>\n",
       "  </thead>\n",
       "  <tbody>\n",
       "    <tr>\n",
       "      <th>0</th>\n",
       "      <td>1</td>\n",
       "      <td>POINT (36.75688844367101 -1.393906824204006)</td>\n",
       "      <td>1158147075</td>\n",
       "      <td>75.682655</td>\n",
       "    </tr>\n",
       "    <tr>\n",
       "      <th>1</th>\n",
       "      <td>2</td>\n",
       "      <td>POINT (36.81392789914727 -1.326785558480865)</td>\n",
       "      <td>1849993171</td>\n",
       "      <td>146.006898</td>\n",
       "    </tr>\n",
       "    <tr>\n",
       "      <th>2</th>\n",
       "      <td>3</td>\n",
       "      <td>POINT (36.88047393053623 -1.335101568222466)</td>\n",
       "      <td>281117486</td>\n",
       "      <td>164.909896</td>\n",
       "    </tr>\n",
       "    <tr>\n",
       "      <th>3</th>\n",
       "      <td>4</td>\n",
       "      <td>POINT (36.91374694623072 -1.24956415610855)</td>\n",
       "      <td>5031056577</td>\n",
       "      <td>44.847221</td>\n",
       "    </tr>\n",
       "    <tr>\n",
       "      <th>4</th>\n",
       "      <td>5</td>\n",
       "      <td>POINT (36.78837897638186 -1.232931552114229)</td>\n",
       "      <td>272715829</td>\n",
       "      <td>115.357176</td>\n",
       "    </tr>\n",
       "    <tr>\n",
       "      <th>5</th>\n",
       "      <td>7</td>\n",
       "      <td>POINT (36.81565775827907 -1.087170539080487)</td>\n",
       "      <td>2105894603</td>\n",
       "      <td>1089.515030</td>\n",
       "    </tr>\n",
       "  </tbody>\n",
       "</table>\n",
       "</div>"
      ],
      "text/plain": [
       "   id                                      geometry  Nearest_node_ID  \\\n",
       "0   1  POINT (36.75688844367101 -1.393906824204006)       1158147075   \n",
       "1   2  POINT (36.81392789914727 -1.326785558480865)       1849993171   \n",
       "2   3  POINT (36.88047393053623 -1.335101568222466)        281117486   \n",
       "3   4   POINT (36.91374694623072 -1.24956415610855)       5031056577   \n",
       "4   5  POINT (36.78837897638186 -1.232931552114229)        272715829   \n",
       "5   7  POINT (36.81565775827907 -1.087170539080487)       2105894603   \n",
       "\n",
       "   Nearest_node_dist  \n",
       "0          75.682655  \n",
       "1         146.006898  \n",
       "2         164.909896  \n",
       "3          44.847221  \n",
       "4         115.357176  \n",
       "5        1089.515030  "
      ]
     },
     "execution_count": 41,
     "metadata": {},
     "output_type": "execute_result"
    }
   ],
   "source": [
    "point_df_with_nearest_node_field = gn.snap_points_to_graph(G, pointgdf)\n",
    "point_df_with_nearest_node_field"
   ]
  },
  {
   "cell_type": "code",
   "execution_count": 42,
   "metadata": {},
   "outputs": [],
   "source": [
    "list_of_nearest_nodes = list(point_df_with_nearest_node_field.Nearest_node_ID)\n",
    "unique_list_of_nearest_nodes = list(set(list_of_nearest_nodes))"
   ]
  },
  {
   "cell_type": "markdown",
   "metadata": {},
   "source": [
    "### Map flooding onto nodes"
   ]
  },
  {
   "cell_type": "code",
   "execution_count": 56,
   "metadata": {},
   "outputs": [
    {
     "name": "stdout",
     "output_type": "stream",
     "text": [
      "peartree version: 0.6.0 \n",
      "networkx version: 2.2 \n",
      "matplotlib version: 2.2.2 \n",
      "osmnx version: 0.8.2 \n",
      "24819\n",
      "1386\n",
      "23433\n"
     ]
    }
   ],
   "source": [
    "importlib.reload(gn)\n",
    "G = gn.sample_raster(G, tif_path, property_name = 'flood_depth')"
   ]
  },
  {
   "cell_type": "code",
   "execution_count": 58,
   "metadata": {},
   "outputs": [
    {
     "name": "stdout",
     "output_type": "stream",
     "text": [
      "(6010044417, {'flood_depth': 0.0, 'x': 36.8861095, 'osmid': 6010044417, 'y': -1.2527366})\n"
     ]
    }
   ],
   "source": [
    "gn.example_node(G, 1)"
   ]
  },
  {
   "cell_type": "markdown",
   "metadata": {},
   "source": [
    "Make a geodataframe of the nodes, check to see info has bonded on correctly"
   ]
  },
  {
   "cell_type": "code",
   "execution_count": 16,
   "metadata": {},
   "outputs": [
    {
     "name": "stdout",
     "output_type": "stream",
     "text": [
      "total number of nodes: 20044\n"
     ]
    }
   ],
   "source": [
    "G_node_gdf = gn.node_gdf_from_graph(G)\n",
    "print('total number of nodes: %d' % len(G_node_gdf))"
   ]
  },
  {
   "cell_type": "code",
   "execution_count": 17,
   "metadata": {},
   "outputs": [
    {
     "name": "stdout",
     "output_type": "stream",
     "text": [
      "number of nodes where flood depth positive: 426\n"
     ]
    }
   ],
   "source": [
    "print('number of nodes where flood depth positive: %d' % len(G_node_gdf.loc[G_node_gdf.flood_depth > 0]))"
   ]
  },
  {
   "cell_type": "markdown",
   "metadata": {},
   "source": [
    "### Calculate baseline OD-matrix with no disruption to nodes"
   ]
  },
  {
   "cell_type": "code",
   "execution_count": 18,
   "metadata": {},
   "outputs": [],
   "source": [
    "test = 1\n",
    "if test == 1:\n",
    "    origins = [579895905, 579895194, 1691717692, 2295631025, 579895558, 292841812, 1685661577]\n",
    "    destinations = [475034453, 475033971, 1461132301, 475032795, 576558929, 579993265, 579993257]\n",
    "else:\n",
    "    origins = unique_list_of_nearest_nodes\n",
    "    destinations = unique_list_of_nearest_nodes\n",
    "\n",
    "fail_value = 999999999999999\n",
    "\n",
    "baseline_OD = gn.calculate_OD(G, origins, destinations, fail_value)"
   ]
  },
  {
   "cell_type": "markdown",
   "metadata": {},
   "source": [
    "Throw this into a dataframe and send to .csv for future reference"
   ]
  },
  {
   "cell_type": "code",
   "execution_count": 19,
   "metadata": {},
   "outputs": [],
   "source": [
    "OD_df = pd.DataFrame(baseline_OD)\n",
    "OD_df.to_csv(os.path.join(pth, 'baseline_OD.csv'))"
   ]
  },
  {
   "cell_type": "markdown",
   "metadata": {},
   "source": [
    "### Knock out part of the network due to a flood"
   ]
  },
  {
   "cell_type": "markdown",
   "metadata": {},
   "source": [
    "methodological note: instead of actually removing a link, what this does is set the time taken to cross the link to an enormously high value (the fail value). It's a surprise tool that will help us later when summarising the OD"
   ]
  },
  {
   "cell_type": "code",
   "execution_count": 20,
   "metadata": {},
   "outputs": [],
   "source": [
    "my_flood_depth = 0.1"
   ]
  },
  {
   "cell_type": "code",
   "execution_count": 36,
   "metadata": {},
   "outputs": [],
   "source": [
    "import GOSTnet as gn\n",
    "\n",
    "G_flood = gn.disrupt_network(G, 'flood_depth', my_flood_depth, fail_value)"
   ]
  },
  {
   "cell_type": "markdown",
   "metadata": {},
   "source": [
    "### Return new OD matrix"
   ]
  },
  {
   "cell_type": "code",
   "execution_count": 39,
   "metadata": {},
   "outputs": [],
   "source": [
    "flooded_OD = gn.calculate_OD(G_flood, origins, destinations, fail_value)"
   ]
  },
  {
   "cell_type": "code",
   "execution_count": 40,
   "metadata": {},
   "outputs": [],
   "source": [
    "flood_OD_df = pd.DataFrame(flooded_OD)\n",
    "flood_OD_df.to_csv(os.path.join(pth, 'flooded_OD.csv'))"
   ]
  },
  {
   "cell_type": "markdown",
   "metadata": {},
   "source": [
    "### Count all of the disrupted trips"
   ]
  },
  {
   "cell_type": "code",
   "execution_count": 41,
   "metadata": {},
   "outputs": [
    {
     "name": "stdout",
     "output_type": "stream",
     "text": [
      "14\n"
     ]
    }
   ],
   "source": [
    "masked_OD = np.ma.masked_greater(flooded_OD, value = (fail_value - 1))\n",
    "\n",
    "impossible_trips = masked_OD.mask.sum()\n",
    "print(impossible_trips)"
   ]
  },
  {
   "cell_type": "code",
   "execution_count": 42,
   "metadata": {},
   "outputs": [
    {
     "data": {
      "text/html": [
       "<div>\n",
       "<style scoped>\n",
       "    .dataframe tbody tr th:only-of-type {\n",
       "        vertical-align: middle;\n",
       "    }\n",
       "\n",
       "    .dataframe tbody tr th {\n",
       "        vertical-align: top;\n",
       "    }\n",
       "\n",
       "    .dataframe thead th {\n",
       "        text-align: right;\n",
       "    }\n",
       "</style>\n",
       "<table border=\"1\" class=\"dataframe\">\n",
       "  <thead>\n",
       "    <tr style=\"text-align: right;\">\n",
       "      <th></th>\n",
       "      <th>0</th>\n",
       "      <th>1</th>\n",
       "      <th>2</th>\n",
       "      <th>3</th>\n",
       "      <th>4</th>\n",
       "      <th>5</th>\n",
       "      <th>6</th>\n",
       "    </tr>\n",
       "  </thead>\n",
       "  <tbody>\n",
       "    <tr>\n",
       "      <th>0</th>\n",
       "      <td>278.509560</td>\n",
       "      <td>224.309640</td>\n",
       "      <td>372.422400</td>\n",
       "      <td>383.015657</td>\n",
       "      <td>555.466877</td>\n",
       "      <td>330.391680</td>\n",
       "      <td>469.380900</td>\n",
       "    </tr>\n",
       "    <tr>\n",
       "      <th>1</th>\n",
       "      <td>101.351280</td>\n",
       "      <td>47.151360</td>\n",
       "      <td>195.264120</td>\n",
       "      <td>257.181539</td>\n",
       "      <td>401.219760</td>\n",
       "      <td>153.233400</td>\n",
       "      <td>292.222620</td>\n",
       "    </tr>\n",
       "    <tr>\n",
       "      <th>2</th>\n",
       "      <td>282.360366</td>\n",
       "      <td>337.607166</td>\n",
       "      <td>514.211286</td>\n",
       "      <td>134.915207</td>\n",
       "      <td>307.366427</td>\n",
       "      <td>472.180566</td>\n",
       "      <td>611.169786</td>\n",
       "    </tr>\n",
       "    <tr>\n",
       "      <th>3</th>\n",
       "      <td>453.338700</td>\n",
       "      <td>399.138780</td>\n",
       "      <td>547.251540</td>\n",
       "      <td>322.383407</td>\n",
       "      <td>494.834627</td>\n",
       "      <td>505.220820</td>\n",
       "      <td>644.210040</td>\n",
       "    </tr>\n",
       "    <tr>\n",
       "      <th>4</th>\n",
       "      <td>326.704140</td>\n",
       "      <td>272.504220</td>\n",
       "      <td>420.616980</td>\n",
       "      <td>482.534399</td>\n",
       "      <td>626.572620</td>\n",
       "      <td>378.586260</td>\n",
       "      <td>517.575480</td>\n",
       "    </tr>\n",
       "    <tr>\n",
       "      <th>5</th>\n",
       "      <td>310.369896</td>\n",
       "      <td>365.616696</td>\n",
       "      <td>542.220816</td>\n",
       "      <td>162.924737</td>\n",
       "      <td>335.375957</td>\n",
       "      <td>500.190096</td>\n",
       "      <td>639.179316</td>\n",
       "    </tr>\n",
       "    <tr>\n",
       "      <th>6</th>\n",
       "      <td>328.723080</td>\n",
       "      <td>274.523160</td>\n",
       "      <td>422.635920</td>\n",
       "      <td>220.821497</td>\n",
       "      <td>393.272717</td>\n",
       "      <td>380.605200</td>\n",
       "      <td>519.594420</td>\n",
       "    </tr>\n",
       "  </tbody>\n",
       "</table>\n",
       "</div>"
      ],
      "text/plain": [
       "            0           1           2           3           4           5  \\\n",
       "0  278.509560  224.309640  372.422400  383.015657  555.466877  330.391680   \n",
       "1  101.351280   47.151360  195.264120  257.181539  401.219760  153.233400   \n",
       "2  282.360366  337.607166  514.211286  134.915207  307.366427  472.180566   \n",
       "3  453.338700  399.138780  547.251540  322.383407  494.834627  505.220820   \n",
       "4  326.704140  272.504220  420.616980  482.534399  626.572620  378.586260   \n",
       "5  310.369896  365.616696  542.220816  162.924737  335.375957  500.190096   \n",
       "6  328.723080  274.523160  422.635920  220.821497  393.272717  380.605200   \n",
       "\n",
       "            6  \n",
       "0  469.380900  \n",
       "1  292.222620  \n",
       "2  611.169786  \n",
       "3  644.210040  \n",
       "4  517.575480  \n",
       "5  639.179316  \n",
       "6  519.594420  "
      ]
     },
     "execution_count": 42,
     "metadata": {},
     "output_type": "execute_result"
    }
   ],
   "source": [
    "OD_df"
   ]
  },
  {
   "cell_type": "code",
   "execution_count": 43,
   "metadata": {},
   "outputs": [
    {
     "data": {
      "text/html": [
       "<div>\n",
       "<style scoped>\n",
       "    .dataframe tbody tr th:only-of-type {\n",
       "        vertical-align: middle;\n",
       "    }\n",
       "\n",
       "    .dataframe tbody tr th {\n",
       "        vertical-align: top;\n",
       "    }\n",
       "\n",
       "    .dataframe thead th {\n",
       "        text-align: right;\n",
       "    }\n",
       "</style>\n",
       "<table border=\"1\" class=\"dataframe\">\n",
       "  <thead>\n",
       "    <tr style=\"text-align: right;\">\n",
       "      <th></th>\n",
       "      <th>0</th>\n",
       "      <th>1</th>\n",
       "      <th>2</th>\n",
       "      <th>3</th>\n",
       "      <th>4</th>\n",
       "      <th>5</th>\n",
       "      <th>6</th>\n",
       "    </tr>\n",
       "  </thead>\n",
       "  <tbody>\n",
       "    <tr>\n",
       "      <th>0</th>\n",
       "      <td>5.392647e+02</td>\n",
       "      <td>6.155182e+02</td>\n",
       "      <td>7.996507e+02</td>\n",
       "      <td>3.836538e+02</td>\n",
       "      <td>5.561050e+02</td>\n",
       "      <td>7.546669e+02</td>\n",
       "      <td>9.488542e+02</td>\n",
       "    </tr>\n",
       "    <tr>\n",
       "      <th>1</th>\n",
       "      <td>1.000000e+15</td>\n",
       "      <td>1.000000e+15</td>\n",
       "      <td>1.000000e+15</td>\n",
       "      <td>1.000000e+15</td>\n",
       "      <td>1.000000e+15</td>\n",
       "      <td>1.000000e+15</td>\n",
       "      <td>1.000000e+15</td>\n",
       "    </tr>\n",
       "    <tr>\n",
       "      <th>2</th>\n",
       "      <td>2.000000e+15</td>\n",
       "      <td>2.000000e+15</td>\n",
       "      <td>2.000000e+15</td>\n",
       "      <td>2.000000e+15</td>\n",
       "      <td>2.000000e+15</td>\n",
       "      <td>2.000000e+15</td>\n",
       "      <td>2.000000e+15</td>\n",
       "    </tr>\n",
       "    <tr>\n",
       "      <th>3</th>\n",
       "      <td>4.779943e+02</td>\n",
       "      <td>5.542478e+02</td>\n",
       "      <td>7.383803e+02</td>\n",
       "      <td>3.223834e+02</td>\n",
       "      <td>4.948346e+02</td>\n",
       "      <td>6.933965e+02</td>\n",
       "      <td>8.875838e+02</td>\n",
       "    </tr>\n",
       "    <tr>\n",
       "      <th>4</th>\n",
       "      <td>8.137560e+02</td>\n",
       "      <td>8.900095e+02</td>\n",
       "      <td>1.074142e+03</td>\n",
       "      <td>6.581451e+02</td>\n",
       "      <td>8.305963e+02</td>\n",
       "      <td>1.029158e+03</td>\n",
       "      <td>1.223345e+03</td>\n",
       "    </tr>\n",
       "    <tr>\n",
       "      <th>5</th>\n",
       "      <td>6.483790e+02</td>\n",
       "      <td>7.246325e+02</td>\n",
       "      <td>9.087650e+02</td>\n",
       "      <td>4.927681e+02</td>\n",
       "      <td>6.652193e+02</td>\n",
       "      <td>8.637812e+02</td>\n",
       "      <td>1.057968e+03</td>\n",
       "    </tr>\n",
       "    <tr>\n",
       "      <th>6</th>\n",
       "      <td>4.240679e+02</td>\n",
       "      <td>5.003214e+02</td>\n",
       "      <td>6.844538e+02</td>\n",
       "      <td>2.684570e+02</td>\n",
       "      <td>4.409082e+02</td>\n",
       "      <td>6.394701e+02</td>\n",
       "      <td>8.336573e+02</td>\n",
       "    </tr>\n",
       "  </tbody>\n",
       "</table>\n",
       "</div>"
      ],
      "text/plain": [
       "              0             1             2             3             4  \\\n",
       "0  5.392647e+02  6.155182e+02  7.996507e+02  3.836538e+02  5.561050e+02   \n",
       "1  1.000000e+15  1.000000e+15  1.000000e+15  1.000000e+15  1.000000e+15   \n",
       "2  2.000000e+15  2.000000e+15  2.000000e+15  2.000000e+15  2.000000e+15   \n",
       "3  4.779943e+02  5.542478e+02  7.383803e+02  3.223834e+02  4.948346e+02   \n",
       "4  8.137560e+02  8.900095e+02  1.074142e+03  6.581451e+02  8.305963e+02   \n",
       "5  6.483790e+02  7.246325e+02  9.087650e+02  4.927681e+02  6.652193e+02   \n",
       "6  4.240679e+02  5.003214e+02  6.844538e+02  2.684570e+02  4.409082e+02   \n",
       "\n",
       "              5             6  \n",
       "0  7.546669e+02  9.488542e+02  \n",
       "1  1.000000e+15  1.000000e+15  \n",
       "2  2.000000e+15  2.000000e+15  \n",
       "3  6.933965e+02  8.875838e+02  \n",
       "4  1.029158e+03  1.223345e+03  \n",
       "5  8.637812e+02  1.057968e+03  \n",
       "6  6.394701e+02  8.336573e+02  "
      ]
     },
     "execution_count": 43,
     "metadata": {},
     "output_type": "execute_result"
    }
   ],
   "source": [
    "flood_OD_df"
   ]
  },
  {
   "cell_type": "code",
   "execution_count": 27,
   "metadata": {},
   "outputs": [],
   "source": [
    "flood_gdf_edge = gn.edge_gdf_from_graph(G_flood)\n",
    "flood_gdf_edge.to_csv(os.path.join(pth, 'flood_edge.csv'))\n",
    "flood_gdf_node = gn.node_gdf_from_graph(G_flood)\n",
    "flood_gdf_node.to_csv(os.path.join(pth, 'flood_node.csv'))"
   ]
  },
  {
   "cell_type": "code",
   "execution_count": null,
   "metadata": {},
   "outputs": [],
   "source": []
  },
  {
   "cell_type": "code",
   "execution_count": null,
   "metadata": {},
   "outputs": [],
   "source": []
  },
  {
   "cell_type": "code",
   "execution_count": null,
   "metadata": {},
   "outputs": [],
   "source": []
  },
  {
   "cell_type": "code",
   "execution_count": null,
   "metadata": {},
   "outputs": [],
   "source": []
  }
 ],
 "metadata": {
  "kernelspec": {
   "display_name": "Python 3",
   "language": "python",
   "name": "python3"
  },
  "language_info": {
   "codemirror_mode": {
    "name": "ipython",
    "version": 3
   },
   "file_extension": ".py",
   "mimetype": "text/x-python",
   "name": "python",
   "nbconvert_exporter": "python",
   "pygments_lexer": "ipython3",
   "version": "3.5.6"
  }
 },
 "nbformat": 4,
 "nbformat_minor": 2
}
