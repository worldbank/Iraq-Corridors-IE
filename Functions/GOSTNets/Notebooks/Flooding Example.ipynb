{
 "cells": [
  {
   "cell_type": "code",
   "execution_count": 1,
   "metadata": {},
   "outputs": [
    {
     "name": "stdout",
     "output_type": "stream",
     "text": [
      "peartree version: 0.6.0 \n",
      "networkx version: 2.2 \n",
      "matplotlib version: 2.2.2 \n",
      "osmnx version: 0.8.2 \n"
     ]
    }
   ],
   "source": [
    "import importlib\n",
    "import sys,os,math,time\n",
    "\n",
    "gostNetsFolder = os.path.dirname(os.getcwd())\n",
    "sys.path.insert(0, gostNetsFolder)\n",
    "from GOSTNets import GOSTnet as gn\n",
    "\n",
    "import networkx as nx\n",
    "import geopandas as gpd\n",
    "import numpy as np\n",
    "import osmnx as ox\n",
    "import pandas as pd\n",
    "import rasterio\n",
    "\n",
    "from shapely.geometry import Point"
   ]
  },
  {
   "cell_type": "code",
   "execution_count": 2,
   "metadata": {},
   "outputs": [],
   "source": [
    "pth = os.path.join(gostNetsFolder, \"SampleData\")\n",
    "boundfile = r'AOI.shp'\n",
    "tif = r'SampleFlood.tif'\n",
    "tif_path = os.path.join(pth, tif)\n",
    "points1 = os.path.join(pth, \"origins.shp\")\n",
    "points2 = os.path.join(pth, \"destinations.shp\")"
   ]
  },
  {
   "cell_type": "markdown",
   "metadata": {},
   "source": [
    "### Generate shape from shapefile"
   ]
  },
  {
   "cell_type": "code",
   "execution_count": 3,
   "metadata": {},
   "outputs": [],
   "source": [
    "shp = gpd.read_file(os.path.join(pth, boundfile))\n",
    "bound = shp.geometry.iloc[0]"
   ]
  },
  {
   "cell_type": "code",
   "execution_count": 4,
   "metadata": {},
   "outputs": [
    {
     "data": {
      "image/svg+xml": [
       "<svg xmlns=\"http://www.w3.org/2000/svg\" xmlns:xlink=\"http://www.w3.org/1999/xlink\" width=\"100.0\" height=\"100.0\" viewBox=\"36.5691029160675 -1.4972807074698207 0.6139589697563608 0.4281500692300504\" preserveAspectRatio=\"xMinYMin meet\"><g transform=\"matrix(1,0,0,-1,0,-2.566411345709591)\"><path fill-rule=\"evenodd\" fill=\"#66cc99\" stroke=\"#555555\" stroke-width=\"0.012279179395127215\" opacity=\"0.6\" d=\"M 36.59335909737929,-1.0934261285113773 L 37.0686802119814,-1.092537542268687 L 37.16015277295697,-1.0918698593418579 L 37.160322664721775,-1.4740494196021505 L 36.591842137169586,-1.474541486367733 L 36.59335909737929,-1.0934261285113773 z\" /></g></svg>"
      ],
      "text/plain": [
       "<shapely.geometry.polygon.Polygon at 0x234ee693860>"
      ]
     },
     "execution_count": 4,
     "metadata": {},
     "output_type": "execute_result"
    }
   ],
   "source": [
    "bound"
   ]
  },
  {
   "cell_type": "markdown",
   "metadata": {},
   "source": [
    "### Get OSM Graph of Road Network"
   ]
  },
  {
   "cell_type": "code",
   "execution_count": 5,
   "metadata": {},
   "outputs": [],
   "source": [
    "G = ox.graph_from_polygon(bound, network_type = 'drive')"
   ]
  },
  {
   "cell_type": "markdown",
   "metadata": {},
   "source": [
    "Have a look at what an edge looks like"
   ]
  },
  {
   "cell_type": "code",
   "execution_count": 6,
   "metadata": {},
   "outputs": [
    {
     "name": "stdout",
     "output_type": "stream",
     "text": [
      "(6010044417, 336031716, {'osmid': 25786057, 'name': 'Kamunde Road', 'highway': 'unclassified', 'oneway': False, 'length': 171.44299999999998, 'geometry': <shapely.geometry.linestring.LineString object at 0x00000234EE693D30>})\n"
     ]
    }
   ],
   "source": [
    "gn.example_edge(G, 1)"
   ]
  },
  {
   "cell_type": "code",
   "execution_count": 7,
   "metadata": {},
   "outputs": [
    {
     "name": "stdout",
     "output_type": "stream",
     "text": [
      "number of roads in object: 68954\n",
      "number of nodes in object: 27945\n"
     ]
    }
   ],
   "source": [
    "print('number of roads in object: %d' % G.number_of_edges())\n",
    "print('number of nodes in object: %d' % G.number_of_nodes())"
   ]
  },
  {
   "cell_type": "markdown",
   "metadata": {},
   "source": [
    "### Convert Network to Time"
   ]
  },
  {
   "cell_type": "code",
   "execution_count": 8,
   "metadata": {},
   "outputs": [],
   "source": [
    "speed_dict = {\n",
    "                'residential': 20,  # kmph\n",
    "                'primary': 40, # kmph\n",
    "                'primary_link':35,\n",
    "                'motorway':45,\n",
    "                'motorway_link': 40,\n",
    "                'trunk': 40,\n",
    "                'trunk_link':35,\n",
    "                'secondary': 30, # kmph\n",
    "                'secondary_link':25,\n",
    "                'tertiary':30,\n",
    "                'tertiary_link': 25,\n",
    "                'unclassified':20, \n",
    "                'road':20,\n",
    "                'crossing':20,\n",
    "                'living_street':20\n",
    "                }"
   ]
  },
  {
   "cell_type": "code",
   "execution_count": 9,
   "metadata": {},
   "outputs": [],
   "source": [
    "G = gn.convert_network_to_time(G, distance_tag = 'length', speed_dict = speed_dict)"
   ]
  },
  {
   "cell_type": "code",
   "execution_count": 10,
   "metadata": {},
   "outputs": [
    {
     "name": "stdout",
     "output_type": "stream",
     "text": [
      "(6010044417, 336031716, {'osmid': 25786057, 'name': 'Kamunde Road', 'highway': 'unclassified', 'oneway': False, 'length': 171.44299999999998, 'geometry': <shapely.geometry.linestring.LineString object at 0x00000234EE693D30>, 'time': 30.859739999999995, 'mode': 'drive'})\n"
     ]
    }
   ],
   "source": [
    "gn.example_edge(G, 1)"
   ]
  },
  {
   "cell_type": "markdown",
   "metadata": {},
   "source": [
    "### Create association between points and road network nodes"
   ]
  },
  {
   "cell_type": "markdown",
   "metadata": {},
   "source": [
    "Prepare the point dataframe - make a GeoDataFrame, set crs to WGS84"
   ]
  },
  {
   "cell_type": "code",
   "execution_count": 11,
   "metadata": {},
   "outputs": [],
   "source": [
    "'''\n",
    "pointdf = pd.read_csv(points1)\n",
    "pointdf['geometry'] = list((zip(pointdf.lon, pointdf.lat)))\n",
    "pointdf['geometry'] = pointdf['geometry'].apply(lambda x: Point(x))\n",
    "pointgdf = gpd.GeoDataFrame(pointdf, crs = {'init':'espg:4326'}, geometry = 'geometry')\n",
    "'''\n",
    "pointgdf = gpd.read_file(points1)"
   ]
  },
  {
   "cell_type": "markdown",
   "metadata": {},
   "source": [
    "Find the nearest node to each input point. These may not be unique (two or more firms might be mapped to same node)"
   ]
  },
  {
   "cell_type": "code",
   "execution_count": 12,
   "metadata": {},
   "outputs": [
    {
     "name": "stderr",
     "output_type": "stream",
     "text": [
      "C:\\Users\\wb493355\\OneDrive - WBG\\Geospatial\\GOSTnets\\GOSTNets\\GOSTnet.py:1650: FutureWarning: Method .as_matrix will be removed in a future version. Use .values instead.\n",
      "  G_tree = spatial.KDTree(node_gdf[['x','y']].as_matrix())\n",
      "C:\\Users\\wb493355\\OneDrive - WBG\\Geospatial\\GOSTnets\\GOSTNets\\GOSTnet.py:1652: FutureWarning: Method .as_matrix will be removed in a future version. Use .values instead.\n",
      "  distances, indices = G_tree.query(in_df[['x','y']].as_matrix())\n"
     ]
    },
    {
     "data": {
      "text/html": [
       "<div>\n",
       "<style scoped>\n",
       "    .dataframe tbody tr th:only-of-type {\n",
       "        vertical-align: middle;\n",
       "    }\n",
       "\n",
       "    .dataframe tbody tr th {\n",
       "        vertical-align: top;\n",
       "    }\n",
       "\n",
       "    .dataframe thead th {\n",
       "        text-align: right;\n",
       "    }\n",
       "</style>\n",
       "<table border=\"1\" class=\"dataframe\">\n",
       "  <thead>\n",
       "    <tr style=\"text-align: right;\">\n",
       "      <th></th>\n",
       "      <th>id</th>\n",
       "      <th>geometry</th>\n",
       "      <th>x</th>\n",
       "      <th>y</th>\n",
       "      <th>NN</th>\n",
       "    </tr>\n",
       "  </thead>\n",
       "  <tbody>\n",
       "    <tr>\n",
       "      <th>0</th>\n",
       "      <td>1</td>\n",
       "      <td>POINT (36.75688844367101 -1.393906824204006)</td>\n",
       "      <td>36.756888</td>\n",
       "      <td>-1.393907</td>\n",
       "      <td>1158145615</td>\n",
       "    </tr>\n",
       "    <tr>\n",
       "      <th>1</th>\n",
       "      <td>2</td>\n",
       "      <td>POINT (36.81392789914727 -1.326785558480865)</td>\n",
       "      <td>36.813928</td>\n",
       "      <td>-1.326786</td>\n",
       "      <td>1849993171</td>\n",
       "    </tr>\n",
       "    <tr>\n",
       "      <th>2</th>\n",
       "      <td>3</td>\n",
       "      <td>POINT (36.88047393053623 -1.335101568222466)</td>\n",
       "      <td>36.880474</td>\n",
       "      <td>-1.335102</td>\n",
       "      <td>5641594791</td>\n",
       "    </tr>\n",
       "    <tr>\n",
       "      <th>3</th>\n",
       "      <td>4</td>\n",
       "      <td>POINT (36.91374694623072 -1.24956415610855)</td>\n",
       "      <td>36.913747</td>\n",
       "      <td>-1.249564</td>\n",
       "      <td>5031056577</td>\n",
       "    </tr>\n",
       "    <tr>\n",
       "      <th>4</th>\n",
       "      <td>5</td>\n",
       "      <td>POINT (36.78837897638186 -1.232931552114229)</td>\n",
       "      <td>36.788379</td>\n",
       "      <td>-1.232932</td>\n",
       "      <td>272715829</td>\n",
       "    </tr>\n",
       "    <tr>\n",
       "      <th>5</th>\n",
       "      <td>7</td>\n",
       "      <td>POINT (36.81565775827907 -1.087170539080487)</td>\n",
       "      <td>36.815658</td>\n",
       "      <td>-1.087171</td>\n",
       "      <td>2105894603</td>\n",
       "    </tr>\n",
       "  </tbody>\n",
       "</table>\n",
       "</div>"
      ],
      "text/plain": [
       "   id                                      geometry          x         y  \\\n",
       "0   1  POINT (36.75688844367101 -1.393906824204006)  36.756888 -1.393907   \n",
       "1   2  POINT (36.81392789914727 -1.326785558480865)  36.813928 -1.326786   \n",
       "2   3  POINT (36.88047393053623 -1.335101568222466)  36.880474 -1.335102   \n",
       "3   4   POINT (36.91374694623072 -1.24956415610855)  36.913747 -1.249564   \n",
       "4   5  POINT (36.78837897638186 -1.232931552114229)  36.788379 -1.232932   \n",
       "5   7  POINT (36.81565775827907 -1.087170539080487)  36.815658 -1.087171   \n",
       "\n",
       "           NN  \n",
       "0  1158145615  \n",
       "1  1849993171  \n",
       "2  5641594791  \n",
       "3  5031056577  \n",
       "4   272715829  \n",
       "5  2105894603  "
      ]
     },
     "execution_count": 12,
     "metadata": {},
     "output_type": "execute_result"
    }
   ],
   "source": [
    "point_df_with_nearest_node_field = gn.pandana_snap(G, pointgdf)\n",
    "point_df_with_nearest_node_field"
   ]
  },
  {
   "cell_type": "code",
   "execution_count": 13,
   "metadata": {},
   "outputs": [],
   "source": [
    "list_of_nearest_nodes = list(point_df_with_nearest_node_field.NN)\n",
    "unique_list_of_nearest_nodes = list(set(list_of_nearest_nodes))"
   ]
  },
  {
   "cell_type": "markdown",
   "metadata": {},
   "source": [
    "### Map flooding onto nodes"
   ]
  },
  {
   "cell_type": "code",
   "execution_count": 14,
   "metadata": {},
   "outputs": [
    {
     "name": "stdout",
     "output_type": "stream",
     "text": [
      "peartree version: 0.6.0 \n",
      "networkx version: 2.2 \n",
      "matplotlib version: 2.2.2 \n",
      "osmnx version: 0.8.2 \n"
     ]
    }
   ],
   "source": [
    "importlib.reload(gn)\n",
    "G = gn.sample_raster(G, tif_path, property_name = 'flood_depth')"
   ]
  },
  {
   "cell_type": "code",
   "execution_count": 15,
   "metadata": {},
   "outputs": [
    {
     "name": "stdout",
     "output_type": "stream",
     "text": [
      "(6010044417, {'y': -1.2527366, 'x': 36.8861095, 'osmid': 6010044417, 'flood_depth': 0.0})\n"
     ]
    }
   ],
   "source": [
    "gn.example_node(G, 1)"
   ]
  },
  {
   "cell_type": "markdown",
   "metadata": {},
   "source": [
    "Make a geodataframe of the nodes, check to see info has bonded on correctly"
   ]
  },
  {
   "cell_type": "code",
   "execution_count": 16,
   "metadata": {},
   "outputs": [
    {
     "name": "stdout",
     "output_type": "stream",
     "text": [
      "total number of nodes: 27945\n"
     ]
    }
   ],
   "source": [
    "G_node_gdf = gn.node_gdf_from_graph(G)\n",
    "print('total number of nodes: %d' % len(G_node_gdf))"
   ]
  },
  {
   "cell_type": "code",
   "execution_count": 17,
   "metadata": {},
   "outputs": [
    {
     "name": "stdout",
     "output_type": "stream",
     "text": [
      "number of nodes where flood depth positive: 182\n"
     ]
    }
   ],
   "source": [
    "print('number of nodes where flood depth positive: %d' % len(G_node_gdf.loc[G_node_gdf.flood_depth > 0]))"
   ]
  },
  {
   "cell_type": "code",
   "execution_count": 18,
   "metadata": {},
   "outputs": [
    {
     "name": "stdout",
     "output_type": "stream",
     "text": [
      "number of nodes where flood depth zero: 26292\n"
     ]
    }
   ],
   "source": [
    "print('number of nodes where flood depth zero: %d' % len(G_node_gdf.loc[G_node_gdf.flood_depth == 0]))"
   ]
  },
  {
   "cell_type": "code",
   "execution_count": 19,
   "metadata": {},
   "outputs": [
    {
     "name": "stdout",
     "output_type": "stream",
     "text": [
      "1471\n"
     ]
    }
   ],
   "source": [
    "# clearly, some nodes don't intersect the raster. solve this by setting flood_depth = 0 where this is the case\n",
    "i = 0\n",
    "for u, data in G.nodes(data = True):\n",
    "    if 'flood_depth' not in data.keys():\n",
    "        data['flood_depth'] = 0\n",
    "        i+=1\n",
    "print(i)"
   ]
  },
  {
   "cell_type": "markdown",
   "metadata": {},
   "source": [
    "### Calculate baseline OD-matrix with no disruption to nodes"
   ]
  },
  {
   "cell_type": "code",
   "execution_count": 20,
   "metadata": {},
   "outputs": [
    {
     "name": "stdout",
     "output_type": "stream",
     "text": [
      "number of near-flooded nodes for illustration purposes: 34\n"
     ]
    }
   ],
   "source": [
    "# we need to pick some nodes which are near the flood to test the disruption between them - pre and post flood\n",
    "proximate_nodes = []\n",
    "for u, data in G.nodes(data = True):\n",
    "    if data['flood_depth'] > 0.3 and data['flood_depth'] < 0.49:\n",
    "        proximate_nodes.append(u)\n",
    "print('number of near-flooded nodes for illustration purposes: %s' % len(proximate_nodes))"
   ]
  },
  {
   "cell_type": "code",
   "execution_count": 21,
   "metadata": {},
   "outputs": [],
   "source": [
    "test = 1\n",
    "if test == 1:\n",
    "    # we take the first 10 of these for our origins and the last 15 for our destinations\n",
    "    origins = proximate_nodes[:10]\n",
    "    destinations = proximate_nodes[-10:]\n",
    "else:\n",
    "    origins = unique_list_of_nearest_nodes\n",
    "    destinations = unique_list_of_nearest_nodes\n",
    "\n",
    "fail_value = 999999999999999\n",
    "\n",
    "baseline_OD = gn.calculate_OD(G, origins, destinations, fail_value)"
   ]
  },
  {
   "cell_type": "markdown",
   "metadata": {},
   "source": [
    "Throw this into a dataframe and send to .csv for future reference"
   ]
  },
  {
   "cell_type": "code",
   "execution_count": 22,
   "metadata": {},
   "outputs": [],
   "source": [
    "OD_df = pd.DataFrame(baseline_OD)\n",
    "OD_df.to_csv(os.path.join(pth, 'baseline_OD.csv'))"
   ]
  },
  {
   "cell_type": "markdown",
   "metadata": {},
   "source": [
    "### Knock out part of the network due to a flood"
   ]
  },
  {
   "cell_type": "markdown",
   "metadata": {},
   "source": [
    "methodological note: instead of actually removing a link, what this does is set the time taken to cross the link to an enormously high value (the fail value). It's a surprise tool that will help us later when summarising the OD"
   ]
  },
  {
   "cell_type": "code",
   "execution_count": 53,
   "metadata": {},
   "outputs": [],
   "source": [
    "my_flood_depth = 0.45"
   ]
  },
  {
   "cell_type": "code",
   "execution_count": 54,
   "metadata": {},
   "outputs": [
    {
     "name": "stdout",
     "output_type": "stream",
     "text": [
      "peartree version: 0.6.0 \n",
      "networkx version: 2.2 \n",
      "matplotlib version: 2.2.2 \n",
      "osmnx version: 0.8.2 \n",
      "nodes disrupted: 31\n",
      "edges disrupted: 117\n"
     ]
    }
   ],
   "source": [
    "importlib.reload(gn)\n",
    "G_flood = G.copy()\n",
    "G_flood = gn.disrupt_network(G_flood, 'flood_depth', my_flood_depth, fail_value)"
   ]
  },
  {
   "cell_type": "markdown",
   "metadata": {},
   "source": [
    "### Return new OD matrix"
   ]
  },
  {
   "cell_type": "code",
   "execution_count": 55,
   "metadata": {},
   "outputs": [
    {
     "name": "stdout",
     "output_type": "stream",
     "text": [
      "117\n"
     ]
    }
   ],
   "source": [
    "i = 0\n",
    "for u, v, data in G_flood.edges(data = True):\n",
    "    if data['time'] >= fail_value:\n",
    "        i+=1\n",
    "print(i)"
   ]
  },
  {
   "cell_type": "code",
   "execution_count": 56,
   "metadata": {},
   "outputs": [],
   "source": [
    "flooded_OD = gn.calculate_OD(G_flood, origins, destinations, fail_value)\n",
    "flood_OD_df = pd.DataFrame(flooded_OD)"
   ]
  },
  {
   "cell_type": "code",
   "execution_count": 57,
   "metadata": {},
   "outputs": [],
   "source": [
    "flood_OD_df.to_csv(os.path.join(pth, 'flooded_OD.csv'))"
   ]
  },
  {
   "cell_type": "markdown",
   "metadata": {},
   "source": [
    "### Count all of the disrupted trips"
   ]
  },
  {
   "cell_type": "code",
   "execution_count": 58,
   "metadata": {},
   "outputs": [
    {
     "name": "stdout",
     "output_type": "stream",
     "text": [
      "19\n"
     ]
    }
   ],
   "source": [
    "masked_OD = np.ma.masked_greater(flooded_OD, value = (fail_value - 1))\n",
    "\n",
    "impossible_trips = masked_OD.mask.sum()\n",
    "print(impossible_trips)"
   ]
  },
  {
   "cell_type": "code",
   "execution_count": 59,
   "metadata": {},
   "outputs": [
    {
     "data": {
      "text/html": [
       "<div>\n",
       "<style scoped>\n",
       "    .dataframe tbody tr th:only-of-type {\n",
       "        vertical-align: middle;\n",
       "    }\n",
       "\n",
       "    .dataframe tbody tr th {\n",
       "        vertical-align: top;\n",
       "    }\n",
       "\n",
       "    .dataframe thead th {\n",
       "        text-align: right;\n",
       "    }\n",
       "</style>\n",
       "<table border=\"1\" class=\"dataframe\">\n",
       "  <thead>\n",
       "    <tr style=\"text-align: right;\">\n",
       "      <th></th>\n",
       "      <th>0</th>\n",
       "      <th>1</th>\n",
       "      <th>2</th>\n",
       "      <th>3</th>\n",
       "      <th>4</th>\n",
       "      <th>5</th>\n",
       "      <th>6</th>\n",
       "      <th>7</th>\n",
       "      <th>8</th>\n",
       "      <th>9</th>\n",
       "    </tr>\n",
       "  </thead>\n",
       "  <tbody>\n",
       "    <tr>\n",
       "      <th>0</th>\n",
       "      <td>524.469240</td>\n",
       "      <td>514.858860</td>\n",
       "      <td>478.334670</td>\n",
       "      <td>504.746280</td>\n",
       "      <td>1896.643601</td>\n",
       "      <td>2991.185846</td>\n",
       "      <td>3406.421597</td>\n",
       "      <td>1797.607272</td>\n",
       "      <td>1622.403746</td>\n",
       "      <td>1278.888493</td>\n",
       "    </tr>\n",
       "    <tr>\n",
       "      <th>1</th>\n",
       "      <td>2785.260507</td>\n",
       "      <td>2775.650127</td>\n",
       "      <td>2765.241057</td>\n",
       "      <td>2910.481797</td>\n",
       "      <td>4188.017593</td>\n",
       "      <td>5383.383293</td>\n",
       "      <td>5434.778907</td>\n",
       "      <td>3084.958179</td>\n",
       "      <td>4014.601193</td>\n",
       "      <td>3671.085940</td>\n",
       "    </tr>\n",
       "    <tr>\n",
       "      <th>2</th>\n",
       "      <td>1499.468836</td>\n",
       "      <td>1489.858456</td>\n",
       "      <td>1001.784222</td>\n",
       "      <td>1147.024962</td>\n",
       "      <td>2358.592493</td>\n",
       "      <td>3619.926458</td>\n",
       "      <td>4035.162209</td>\n",
       "      <td>1277.749350</td>\n",
       "      <td>2251.144358</td>\n",
       "      <td>1907.629105</td>\n",
       "    </tr>\n",
       "    <tr>\n",
       "      <th>3</th>\n",
       "      <td>1216.304212</td>\n",
       "      <td>1206.693832</td>\n",
       "      <td>1890.898942</td>\n",
       "      <td>1814.686432</td>\n",
       "      <td>3206.583753</td>\n",
       "      <td>3646.328336</td>\n",
       "      <td>3519.732200</td>\n",
       "      <td>3009.129244</td>\n",
       "      <td>2277.546236</td>\n",
       "      <td>2147.865940</td>\n",
       "    </tr>\n",
       "    <tr>\n",
       "      <th>4</th>\n",
       "      <td>1378.850662</td>\n",
       "      <td>1369.240282</td>\n",
       "      <td>2053.445392</td>\n",
       "      <td>1977.232882</td>\n",
       "      <td>3369.130203</td>\n",
       "      <td>3808.874786</td>\n",
       "      <td>3682.278650</td>\n",
       "      <td>2744.631809</td>\n",
       "      <td>2440.092686</td>\n",
       "      <td>2310.412390</td>\n",
       "    </tr>\n",
       "    <tr>\n",
       "      <th>5</th>\n",
       "      <td>2240.416140</td>\n",
       "      <td>2230.805760</td>\n",
       "      <td>1480.912707</td>\n",
       "      <td>1584.405357</td>\n",
       "      <td>1337.671380</td>\n",
       "      <td>1773.227199</td>\n",
       "      <td>3532.995542</td>\n",
       "      <td>2186.561250</td>\n",
       "      <td>1342.904222</td>\n",
       "      <td>1822.557062</td>\n",
       "    </tr>\n",
       "    <tr>\n",
       "      <th>6</th>\n",
       "      <td>2270.732820</td>\n",
       "      <td>2261.122440</td>\n",
       "      <td>1511.229387</td>\n",
       "      <td>1614.722037</td>\n",
       "      <td>1367.988060</td>\n",
       "      <td>1803.543879</td>\n",
       "      <td>3563.312222</td>\n",
       "      <td>2216.877930</td>\n",
       "      <td>1373.220902</td>\n",
       "      <td>1852.873742</td>\n",
       "    </tr>\n",
       "    <tr>\n",
       "      <th>7</th>\n",
       "      <td>1491.625696</td>\n",
       "      <td>1482.015316</td>\n",
       "      <td>993.941082</td>\n",
       "      <td>1139.181822</td>\n",
       "      <td>2350.749353</td>\n",
       "      <td>3612.083318</td>\n",
       "      <td>4027.319069</td>\n",
       "      <td>1285.592490</td>\n",
       "      <td>2243.301218</td>\n",
       "      <td>1899.785965</td>\n",
       "    </tr>\n",
       "    <tr>\n",
       "      <th>8</th>\n",
       "      <td>724.474290</td>\n",
       "      <td>714.863910</td>\n",
       "      <td>565.575930</td>\n",
       "      <td>710.816670</td>\n",
       "      <td>1988.352466</td>\n",
       "      <td>3183.718166</td>\n",
       "      <td>3598.953917</td>\n",
       "      <td>1624.470432</td>\n",
       "      <td>1814.936066</td>\n",
       "      <td>1471.420813</td>\n",
       "    </tr>\n",
       "    <tr>\n",
       "      <th>9</th>\n",
       "      <td>3408.603523</td>\n",
       "      <td>3398.993143</td>\n",
       "      <td>2902.239443</td>\n",
       "      <td>2760.692593</td>\n",
       "      <td>2104.677476</td>\n",
       "      <td>75.729960</td>\n",
       "      <td>4028.784133</td>\n",
       "      <td>3327.147270</td>\n",
       "      <td>1752.978690</td>\n",
       "      <td>2668.236313</td>\n",
       "    </tr>\n",
       "  </tbody>\n",
       "</table>\n",
       "</div>"
      ],
      "text/plain": [
       "             0            1            2            3            4  \\\n",
       "0   524.469240   514.858860   478.334670   504.746280  1896.643601   \n",
       "1  2785.260507  2775.650127  2765.241057  2910.481797  4188.017593   \n",
       "2  1499.468836  1489.858456  1001.784222  1147.024962  2358.592493   \n",
       "3  1216.304212  1206.693832  1890.898942  1814.686432  3206.583753   \n",
       "4  1378.850662  1369.240282  2053.445392  1977.232882  3369.130203   \n",
       "5  2240.416140  2230.805760  1480.912707  1584.405357  1337.671380   \n",
       "6  2270.732820  2261.122440  1511.229387  1614.722037  1367.988060   \n",
       "7  1491.625696  1482.015316   993.941082  1139.181822  2350.749353   \n",
       "8   724.474290   714.863910   565.575930   710.816670  1988.352466   \n",
       "9  3408.603523  3398.993143  2902.239443  2760.692593  2104.677476   \n",
       "\n",
       "             5            6            7            8            9  \n",
       "0  2991.185846  3406.421597  1797.607272  1622.403746  1278.888493  \n",
       "1  5383.383293  5434.778907  3084.958179  4014.601193  3671.085940  \n",
       "2  3619.926458  4035.162209  1277.749350  2251.144358  1907.629105  \n",
       "3  3646.328336  3519.732200  3009.129244  2277.546236  2147.865940  \n",
       "4  3808.874786  3682.278650  2744.631809  2440.092686  2310.412390  \n",
       "5  1773.227199  3532.995542  2186.561250  1342.904222  1822.557062  \n",
       "6  1803.543879  3563.312222  2216.877930  1373.220902  1852.873742  \n",
       "7  3612.083318  4027.319069  1285.592490  2243.301218  1899.785965  \n",
       "8  3183.718166  3598.953917  1624.470432  1814.936066  1471.420813  \n",
       "9    75.729960  4028.784133  3327.147270  1752.978690  2668.236313  "
      ]
     },
     "execution_count": 59,
     "metadata": {},
     "output_type": "execute_result"
    }
   ],
   "source": [
    "OD_df"
   ]
  },
  {
   "cell_type": "code",
   "execution_count": 60,
   "metadata": {},
   "outputs": [
    {
     "data": {
      "text/html": [
       "<div>\n",
       "<style scoped>\n",
       "    .dataframe tbody tr th:only-of-type {\n",
       "        vertical-align: middle;\n",
       "    }\n",
       "\n",
       "    .dataframe tbody tr th {\n",
       "        vertical-align: top;\n",
       "    }\n",
       "\n",
       "    .dataframe thead th {\n",
       "        text-align: right;\n",
       "    }\n",
       "</style>\n",
       "<table border=\"1\" class=\"dataframe\">\n",
       "  <thead>\n",
       "    <tr style=\"text-align: right;\">\n",
       "      <th></th>\n",
       "      <th>0</th>\n",
       "      <th>1</th>\n",
       "      <th>2</th>\n",
       "      <th>3</th>\n",
       "      <th>4</th>\n",
       "      <th>5</th>\n",
       "      <th>6</th>\n",
       "      <th>7</th>\n",
       "      <th>8</th>\n",
       "      <th>9</th>\n",
       "    </tr>\n",
       "  </thead>\n",
       "  <tbody>\n",
       "    <tr>\n",
       "      <th>0</th>\n",
       "      <td>5.244692e+02</td>\n",
       "      <td>5.148589e+02</td>\n",
       "      <td>4.783347e+02</td>\n",
       "      <td>5.047463e+02</td>\n",
       "      <td>1.000000e+15</td>\n",
       "      <td>2.991186e+03</td>\n",
       "      <td>3.406422e+03</td>\n",
       "      <td>1.797607e+03</td>\n",
       "      <td>1.622404e+03</td>\n",
       "      <td>1.278888e+03</td>\n",
       "    </tr>\n",
       "    <tr>\n",
       "      <th>1</th>\n",
       "      <td>2.785261e+03</td>\n",
       "      <td>2.775650e+03</td>\n",
       "      <td>2.765241e+03</td>\n",
       "      <td>2.910482e+03</td>\n",
       "      <td>1.000000e+15</td>\n",
       "      <td>5.383383e+03</td>\n",
       "      <td>5.434779e+03</td>\n",
       "      <td>3.084958e+03</td>\n",
       "      <td>4.014601e+03</td>\n",
       "      <td>3.671086e+03</td>\n",
       "    </tr>\n",
       "    <tr>\n",
       "      <th>2</th>\n",
       "      <td>1.499469e+03</td>\n",
       "      <td>1.489858e+03</td>\n",
       "      <td>1.001784e+03</td>\n",
       "      <td>1.147025e+03</td>\n",
       "      <td>1.000000e+15</td>\n",
       "      <td>3.619926e+03</td>\n",
       "      <td>4.035162e+03</td>\n",
       "      <td>1.277749e+03</td>\n",
       "      <td>2.251144e+03</td>\n",
       "      <td>1.907629e+03</td>\n",
       "    </tr>\n",
       "    <tr>\n",
       "      <th>3</th>\n",
       "      <td>1.216304e+03</td>\n",
       "      <td>1.206694e+03</td>\n",
       "      <td>1.890899e+03</td>\n",
       "      <td>1.814686e+03</td>\n",
       "      <td>1.000000e+15</td>\n",
       "      <td>3.646328e+03</td>\n",
       "      <td>3.519732e+03</td>\n",
       "      <td>3.009129e+03</td>\n",
       "      <td>2.277546e+03</td>\n",
       "      <td>2.147866e+03</td>\n",
       "    </tr>\n",
       "    <tr>\n",
       "      <th>4</th>\n",
       "      <td>1.378851e+03</td>\n",
       "      <td>1.369240e+03</td>\n",
       "      <td>2.053445e+03</td>\n",
       "      <td>1.977233e+03</td>\n",
       "      <td>1.000000e+15</td>\n",
       "      <td>3.808875e+03</td>\n",
       "      <td>3.682279e+03</td>\n",
       "      <td>2.744632e+03</td>\n",
       "      <td>2.440093e+03</td>\n",
       "      <td>2.310412e+03</td>\n",
       "    </tr>\n",
       "    <tr>\n",
       "      <th>5</th>\n",
       "      <td>2.240416e+03</td>\n",
       "      <td>2.230806e+03</td>\n",
       "      <td>1.480913e+03</td>\n",
       "      <td>1.584405e+03</td>\n",
       "      <td>1.000000e+15</td>\n",
       "      <td>1.773227e+03</td>\n",
       "      <td>3.532996e+03</td>\n",
       "      <td>2.186561e+03</td>\n",
       "      <td>1.342904e+03</td>\n",
       "      <td>1.822557e+03</td>\n",
       "    </tr>\n",
       "    <tr>\n",
       "      <th>6</th>\n",
       "      <td>2.270733e+03</td>\n",
       "      <td>2.261122e+03</td>\n",
       "      <td>1.511229e+03</td>\n",
       "      <td>1.614722e+03</td>\n",
       "      <td>1.000000e+15</td>\n",
       "      <td>1.803544e+03</td>\n",
       "      <td>3.563312e+03</td>\n",
       "      <td>2.216878e+03</td>\n",
       "      <td>1.373221e+03</td>\n",
       "      <td>1.852874e+03</td>\n",
       "    </tr>\n",
       "    <tr>\n",
       "      <th>7</th>\n",
       "      <td>1.491626e+03</td>\n",
       "      <td>1.482015e+03</td>\n",
       "      <td>9.939411e+02</td>\n",
       "      <td>1.139182e+03</td>\n",
       "      <td>1.000000e+15</td>\n",
       "      <td>3.612083e+03</td>\n",
       "      <td>4.027319e+03</td>\n",
       "      <td>1.285592e+03</td>\n",
       "      <td>2.243301e+03</td>\n",
       "      <td>1.899786e+03</td>\n",
       "    </tr>\n",
       "    <tr>\n",
       "      <th>8</th>\n",
       "      <td>7.244743e+02</td>\n",
       "      <td>7.148639e+02</td>\n",
       "      <td>5.655759e+02</td>\n",
       "      <td>7.108167e+02</td>\n",
       "      <td>1.000000e+15</td>\n",
       "      <td>3.183718e+03</td>\n",
       "      <td>3.598954e+03</td>\n",
       "      <td>1.624470e+03</td>\n",
       "      <td>1.814936e+03</td>\n",
       "      <td>1.471421e+03</td>\n",
       "    </tr>\n",
       "    <tr>\n",
       "      <th>9</th>\n",
       "      <td>1.000000e+15</td>\n",
       "      <td>1.000000e+15</td>\n",
       "      <td>1.000000e+15</td>\n",
       "      <td>1.000000e+15</td>\n",
       "      <td>2.000000e+15</td>\n",
       "      <td>1.000000e+15</td>\n",
       "      <td>1.000000e+15</td>\n",
       "      <td>1.000000e+15</td>\n",
       "      <td>1.000000e+15</td>\n",
       "      <td>1.000000e+15</td>\n",
       "    </tr>\n",
       "  </tbody>\n",
       "</table>\n",
       "</div>"
      ],
      "text/plain": [
       "              0             1             2             3             4  \\\n",
       "0  5.244692e+02  5.148589e+02  4.783347e+02  5.047463e+02  1.000000e+15   \n",
       "1  2.785261e+03  2.775650e+03  2.765241e+03  2.910482e+03  1.000000e+15   \n",
       "2  1.499469e+03  1.489858e+03  1.001784e+03  1.147025e+03  1.000000e+15   \n",
       "3  1.216304e+03  1.206694e+03  1.890899e+03  1.814686e+03  1.000000e+15   \n",
       "4  1.378851e+03  1.369240e+03  2.053445e+03  1.977233e+03  1.000000e+15   \n",
       "5  2.240416e+03  2.230806e+03  1.480913e+03  1.584405e+03  1.000000e+15   \n",
       "6  2.270733e+03  2.261122e+03  1.511229e+03  1.614722e+03  1.000000e+15   \n",
       "7  1.491626e+03  1.482015e+03  9.939411e+02  1.139182e+03  1.000000e+15   \n",
       "8  7.244743e+02  7.148639e+02  5.655759e+02  7.108167e+02  1.000000e+15   \n",
       "9  1.000000e+15  1.000000e+15  1.000000e+15  1.000000e+15  2.000000e+15   \n",
       "\n",
       "              5             6             7             8             9  \n",
       "0  2.991186e+03  3.406422e+03  1.797607e+03  1.622404e+03  1.278888e+03  \n",
       "1  5.383383e+03  5.434779e+03  3.084958e+03  4.014601e+03  3.671086e+03  \n",
       "2  3.619926e+03  4.035162e+03  1.277749e+03  2.251144e+03  1.907629e+03  \n",
       "3  3.646328e+03  3.519732e+03  3.009129e+03  2.277546e+03  2.147866e+03  \n",
       "4  3.808875e+03  3.682279e+03  2.744632e+03  2.440093e+03  2.310412e+03  \n",
       "5  1.773227e+03  3.532996e+03  2.186561e+03  1.342904e+03  1.822557e+03  \n",
       "6  1.803544e+03  3.563312e+03  2.216878e+03  1.373221e+03  1.852874e+03  \n",
       "7  3.612083e+03  4.027319e+03  1.285592e+03  2.243301e+03  1.899786e+03  \n",
       "8  3.183718e+03  3.598954e+03  1.624470e+03  1.814936e+03  1.471421e+03  \n",
       "9  1.000000e+15  1.000000e+15  1.000000e+15  1.000000e+15  1.000000e+15  "
      ]
     },
     "execution_count": 60,
     "metadata": {},
     "output_type": "execute_result"
    }
   ],
   "source": [
    "flood_OD_df"
   ]
  },
  {
   "cell_type": "code",
   "execution_count": 61,
   "metadata": {},
   "outputs": [
    {
     "data": {
      "text/html": [
       "<div>\n",
       "<style scoped>\n",
       "    .dataframe tbody tr th:only-of-type {\n",
       "        vertical-align: middle;\n",
       "    }\n",
       "\n",
       "    .dataframe tbody tr th {\n",
       "        vertical-align: top;\n",
       "    }\n",
       "\n",
       "    .dataframe thead th {\n",
       "        text-align: right;\n",
       "    }\n",
       "</style>\n",
       "<table border=\"1\" class=\"dataframe\">\n",
       "  <thead>\n",
       "    <tr style=\"text-align: right;\">\n",
       "      <th></th>\n",
       "      <th>0</th>\n",
       "      <th>1</th>\n",
       "      <th>2</th>\n",
       "      <th>3</th>\n",
       "      <th>4</th>\n",
       "      <th>5</th>\n",
       "      <th>6</th>\n",
       "      <th>7</th>\n",
       "      <th>8</th>\n",
       "      <th>9</th>\n",
       "    </tr>\n",
       "  </thead>\n",
       "  <tbody>\n",
       "    <tr>\n",
       "      <th>0</th>\n",
       "      <td>True</td>\n",
       "      <td>True</td>\n",
       "      <td>True</td>\n",
       "      <td>True</td>\n",
       "      <td>False</td>\n",
       "      <td>True</td>\n",
       "      <td>True</td>\n",
       "      <td>True</td>\n",
       "      <td>True</td>\n",
       "      <td>True</td>\n",
       "    </tr>\n",
       "    <tr>\n",
       "      <th>1</th>\n",
       "      <td>True</td>\n",
       "      <td>True</td>\n",
       "      <td>True</td>\n",
       "      <td>True</td>\n",
       "      <td>False</td>\n",
       "      <td>True</td>\n",
       "      <td>True</td>\n",
       "      <td>True</td>\n",
       "      <td>True</td>\n",
       "      <td>True</td>\n",
       "    </tr>\n",
       "    <tr>\n",
       "      <th>2</th>\n",
       "      <td>True</td>\n",
       "      <td>True</td>\n",
       "      <td>True</td>\n",
       "      <td>True</td>\n",
       "      <td>False</td>\n",
       "      <td>True</td>\n",
       "      <td>True</td>\n",
       "      <td>True</td>\n",
       "      <td>True</td>\n",
       "      <td>True</td>\n",
       "    </tr>\n",
       "    <tr>\n",
       "      <th>3</th>\n",
       "      <td>True</td>\n",
       "      <td>True</td>\n",
       "      <td>True</td>\n",
       "      <td>True</td>\n",
       "      <td>False</td>\n",
       "      <td>True</td>\n",
       "      <td>True</td>\n",
       "      <td>True</td>\n",
       "      <td>True</td>\n",
       "      <td>True</td>\n",
       "    </tr>\n",
       "    <tr>\n",
       "      <th>4</th>\n",
       "      <td>True</td>\n",
       "      <td>True</td>\n",
       "      <td>True</td>\n",
       "      <td>True</td>\n",
       "      <td>False</td>\n",
       "      <td>True</td>\n",
       "      <td>True</td>\n",
       "      <td>True</td>\n",
       "      <td>True</td>\n",
       "      <td>True</td>\n",
       "    </tr>\n",
       "    <tr>\n",
       "      <th>5</th>\n",
       "      <td>True</td>\n",
       "      <td>True</td>\n",
       "      <td>True</td>\n",
       "      <td>True</td>\n",
       "      <td>False</td>\n",
       "      <td>True</td>\n",
       "      <td>True</td>\n",
       "      <td>True</td>\n",
       "      <td>True</td>\n",
       "      <td>True</td>\n",
       "    </tr>\n",
       "    <tr>\n",
       "      <th>6</th>\n",
       "      <td>True</td>\n",
       "      <td>True</td>\n",
       "      <td>True</td>\n",
       "      <td>True</td>\n",
       "      <td>False</td>\n",
       "      <td>True</td>\n",
       "      <td>True</td>\n",
       "      <td>True</td>\n",
       "      <td>True</td>\n",
       "      <td>True</td>\n",
       "    </tr>\n",
       "    <tr>\n",
       "      <th>7</th>\n",
       "      <td>True</td>\n",
       "      <td>True</td>\n",
       "      <td>True</td>\n",
       "      <td>True</td>\n",
       "      <td>False</td>\n",
       "      <td>True</td>\n",
       "      <td>True</td>\n",
       "      <td>True</td>\n",
       "      <td>True</td>\n",
       "      <td>True</td>\n",
       "    </tr>\n",
       "    <tr>\n",
       "      <th>8</th>\n",
       "      <td>True</td>\n",
       "      <td>True</td>\n",
       "      <td>True</td>\n",
       "      <td>True</td>\n",
       "      <td>False</td>\n",
       "      <td>True</td>\n",
       "      <td>True</td>\n",
       "      <td>True</td>\n",
       "      <td>True</td>\n",
       "      <td>True</td>\n",
       "    </tr>\n",
       "    <tr>\n",
       "      <th>9</th>\n",
       "      <td>False</td>\n",
       "      <td>False</td>\n",
       "      <td>False</td>\n",
       "      <td>False</td>\n",
       "      <td>False</td>\n",
       "      <td>False</td>\n",
       "      <td>False</td>\n",
       "      <td>False</td>\n",
       "      <td>False</td>\n",
       "      <td>False</td>\n",
       "    </tr>\n",
       "  </tbody>\n",
       "</table>\n",
       "</div>"
      ],
      "text/plain": [
       "       0      1      2      3      4      5      6      7      8      9\n",
       "0   True   True   True   True  False   True   True   True   True   True\n",
       "1   True   True   True   True  False   True   True   True   True   True\n",
       "2   True   True   True   True  False   True   True   True   True   True\n",
       "3   True   True   True   True  False   True   True   True   True   True\n",
       "4   True   True   True   True  False   True   True   True   True   True\n",
       "5   True   True   True   True  False   True   True   True   True   True\n",
       "6   True   True   True   True  False   True   True   True   True   True\n",
       "7   True   True   True   True  False   True   True   True   True   True\n",
       "8   True   True   True   True  False   True   True   True   True   True\n",
       "9  False  False  False  False  False  False  False  False  False  False"
      ]
     },
     "execution_count": 61,
     "metadata": {},
     "output_type": "execute_result"
    }
   ],
   "source": [
    "OD_df == flood_OD_df"
   ]
  },
  {
   "cell_type": "code",
   "execution_count": 62,
   "metadata": {},
   "outputs": [],
   "source": [
    "flood_gdf_edge = gn.edge_gdf_from_graph(G_flood)\n",
    "flood_gdf_edge.to_csv(os.path.join(pth, 'flood_edge.csv'))\n",
    "flood_gdf_node = gn.node_gdf_from_graph(G_flood)\n",
    "flood_gdf_node.to_csv(os.path.join(pth, 'flood_node.csv'))"
   ]
  },
  {
   "cell_type": "code",
   "execution_count": null,
   "metadata": {},
   "outputs": [],
   "source": []
  },
  {
   "cell_type": "code",
   "execution_count": null,
   "metadata": {},
   "outputs": [],
   "source": []
  },
  {
   "cell_type": "code",
   "execution_count": null,
   "metadata": {},
   "outputs": [],
   "source": []
  },
  {
   "cell_type": "code",
   "execution_count": null,
   "metadata": {},
   "outputs": [],
   "source": []
  }
 ],
 "metadata": {
  "kernelspec": {
   "display_name": "Python (OSRM)",
   "language": "python",
   "name": "osrm"
  },
  "language_info": {
   "codemirror_mode": {
    "name": "ipython",
    "version": 3
   },
   "file_extension": ".py",
   "mimetype": "text/x-python",
   "name": "python",
   "nbconvert_exporter": "python",
   "pygments_lexer": "ipython3",
   "version": "3.6.5"
  }
 },
 "nbformat": 4,
 "nbformat_minor": 2
}
